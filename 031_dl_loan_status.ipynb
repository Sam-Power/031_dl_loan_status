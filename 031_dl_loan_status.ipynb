{
 "cells": [
  {
   "cell_type": "code",
   "execution_count": 123,
   "metadata": {},
   "outputs": [
    {
     "name": "stdout",
     "output_type": "stream",
     "text": [
      "Reset css and font defaults in:\r\n",
      "/Users/me/.jupyter/custom &\r\n",
      "/Users/me/Library/Jupyter/nbextensions\r\n"
     ]
    }
   ],
   "source": [
    "!jt -r"
   ]
  },
  {
   "cell_type": "markdown",
   "metadata": {},
   "source": [
    "# HELLO!\n",
    "\n",
    "***Keras API Project***. This is the capstone project of ***Deep Learning Course***. This project is adapted from Jose Portilla's course and includes a subset created using the ***Lending Club Dataset***.\n",
    "\n",
    "As you know, ***Keras*** is a deep learning ***API*** written in Python, running on top of the machine learning platform ***TensorFlow***. \n",
    "\n",
    "In this project, you'll build a sequential model that your hands will be touching for the first time. You will discover how to create your first deep learning model in Python using Keras. \n",
    "\n",
    "Moreover, you will be working and exploring ***Google Colaboratory*** as an innovation and a facility instead of Jupyter Notebook.\n",
    "\n",
    "Before diving into the project, please take a look at the Determines and Tasks.\n",
    "\n",
    "- ***NOTE:*** *This tutorial assumes that you already know the basics of coding in Python and are familiar with the theory behind Deep Learning.*\n",
    "\n"
   ]
  },
  {
   "cell_type": "markdown",
   "metadata": {},
   "source": [
    "---\n",
    "---"
   ]
  },
  {
   "cell_type": "markdown",
   "metadata": {},
   "source": [
    "# #Determines\n",
    "\n",
    "\n",
    "LendingClub is a US peer-to-peer lending company, headquartered in San Francisco, California. It was the first peer-to-peer lender to register its offerings as securities with the Securities and Exchange Commission (SEC), and to offer loan trading on a secondary market. LendingClub is the world's largest peer-to-peer lending platform.\n",
    "\n",
    "\n",
    "\n",
    "- **Feature information:**\n",
    "\n",
    "<table border=\"1\" class=\"dataframe\">\n",
    "  <thead>\n",
    "    <tr style=\"text-align: right;\">\n",
    "      <th></th>\n",
    "      <th>LoanStatNew</th>\n",
    "      <th>Description</th>\n",
    "    </tr>\n",
    "  </thead>\n",
    "  <tbody>\n",
    "    <tr>\n",
    "      <th>0</th>\n",
    "      <td>loan_amnt</td>\n",
    "      <td>The listed amount of the loan applied for by the borrower. If at some point in time, the credit department reduces the loan amount, then it will be reflected in this value.</td>\n",
    "    </tr>\n",
    "    <tr>\n",
    "      <th>1</th>\n",
    "      <td>term</td>\n",
    "      <td>The number of payments on the loan. Values are in months and can be either 36 or 60.</td>\n",
    "    </tr>\n",
    "    <tr>\n",
    "      <th>2</th>\n",
    "      <td>int_rate</td>\n",
    "      <td>Interest Rate on the loan</td>\n",
    "    </tr>\n",
    "    <tr>\n",
    "      <th>3</th>\n",
    "      <td>installment</td>\n",
    "      <td>The monthly payment owed by the borrower if the loan originates.</td>\n",
    "    </tr>\n",
    "    <tr>\n",
    "      <th>4</th>\n",
    "      <td>grade</td>\n",
    "      <td>LC assigned loan grade</td>\n",
    "    </tr>\n",
    "    <tr>\n",
    "      <th>5</th>\n",
    "      <td>sub_grade</td>\n",
    "      <td>LC assigned loan subgrade</td>\n",
    "    </tr>\n",
    "    <tr>\n",
    "      <th>6</th>\n",
    "      <td>emp_title</td>\n",
    "      <td>The job title supplied by the Borrower when applying for the loan.*</td>\n",
    "    </tr>\n",
    "    <tr>\n",
    "      <th>7</th>\n",
    "      <td>emp_length</td>\n",
    "      <td>Employment length in years. Possible values are between 0 and 10 where 0 means less than one year and 10 means ten or more years.</td>\n",
    "    </tr>\n",
    "    <tr>\n",
    "      <th>8</th>\n",
    "      <td>home_ownership</td>\n",
    "      <td>The home ownership status provided by the borrower during registration or obtained from the credit report. Our values are: RENT, OWN, MORTGAGE, OTHER</td>\n",
    "    </tr>\n",
    "    <tr>\n",
    "      <th>9</th>\n",
    "      <td>annual_inc</td>\n",
    "      <td>The self-reported annual income provided by the borrower during registration.</td>\n",
    "    </tr>\n",
    "    <tr>\n",
    "      <th>10</th>\n",
    "      <td>verification_status</td>\n",
    "      <td>Indicates if income was verified by LC, not verified, or if the income source was verified</td>\n",
    "    </tr>\n",
    "    <tr>\n",
    "      <th>11</th>\n",
    "      <td>issue_d</td>\n",
    "      <td>The month which the loan was funded</td>\n",
    "    </tr>\n",
    "    <tr>\n",
    "      <th>12</th>\n",
    "      <td>loan_status</td>\n",
    "      <td>Current status of the loan</td>\n",
    "    </tr>\n",
    "    <tr>\n",
    "      <th>13</th>\n",
    "      <td>purpose</td>\n",
    "      <td>A category provided by the borrower for the loan request.</td>\n",
    "    </tr>\n",
    "    <tr>\n",
    "      <th>14</th>\n",
    "      <td>title</td>\n",
    "      <td>The loan title provided by the borrower</td>\n",
    "    </tr>\n",
    "    <tr>\n",
    "      <th>15</th>\n",
    "      <td>zip_code</td>\n",
    "      <td>The first 3 numbers of the zip code provided by the borrower in the loan application.</td>\n",
    "    </tr>\n",
    "    <tr>\n",
    "      <th>16</th>\n",
    "      <td>addr_state</td>\n",
    "      <td>The state provided by the borrower in the loan application</td>\n",
    "    </tr>\n",
    "    <tr>\n",
    "      <th>17</th>\n",
    "      <td>dti</td>\n",
    "      <td>A ratio calculated using the borrower’s total monthly debt payments on the total debt obligations, excluding mortgage and the requested LC loan, divided by the borrower’s self-reported monthly income.</td>\n",
    "    </tr>\n",
    "    <tr>\n",
    "      <th>18</th>\n",
    "      <td>earliest_cr_line</td>\n",
    "      <td>The month the borrower's earliest reported credit line was opened</td>\n",
    "    </tr>\n",
    "    <tr>\n",
    "      <th>19</th>\n",
    "      <td>open_acc</td>\n",
    "      <td>The number of open credit lines in the borrower's credit file.</td>\n",
    "    </tr>\n",
    "    <tr>\n",
    "      <th>20</th>\n",
    "      <td>pub_rec</td>\n",
    "      <td>Number of derogatory public records</td>\n",
    "    </tr>\n",
    "    <tr>\n",
    "      <th>21</th>\n",
    "      <td>revol_bal</td>\n",
    "      <td>Total credit revolving balance</td>\n",
    "    </tr>\n",
    "    <tr>\n",
    "      <th>22</th>\n",
    "      <td>revol_util</td>\n",
    "      <td>Revolving line utilization rate, or the amount of credit the borrower is using relative to all available revolving credit.</td>\n",
    "    </tr>\n",
    "    <tr>\n",
    "      <th>23</th>\n",
    "      <td>total_acc</td>\n",
    "      <td>The total number of credit lines currently in the borrower's credit file</td>\n",
    "    </tr>\n",
    "    <tr>\n",
    "      <th>24</th>\n",
    "      <td>initial_list_status</td>\n",
    "      <td>The initial listing status of the loan. Possible values are – W, F</td>\n",
    "    </tr>\n",
    "    <tr>\n",
    "      <th>25</th>\n",
    "      <td>application_type</td>\n",
    "      <td>Indicates whether the loan is an individual application or a joint application with two co-borrowers</td>\n",
    "    </tr>\n",
    "    <tr>\n",
    "      <th>26</th>\n",
    "      <td>mort_acc</td>\n",
    "      <td>Number of mortgage accounts.</td>\n",
    "    </tr>\n",
    "    <tr>\n",
    "      <th>27</th>\n",
    "      <td>pub_rec_bankruptcies</td>\n",
    "      <td>Number of public record bankruptcies</td>\n",
    "    </tr>\n",
    "  </tbody>\n",
    "</table>\n",
    "\n",
    "\n",
    "- Additionally, provided feature information on the data as a CSV file for easy lookup.\n",
    "\n",
    "---\n",
    "\n",
    "When the bank hires a new potential customer, can you assess whether the customer can repay the loan?\n",
    "\n",
    "Regarding that, you'll create a model that can predict whether a borrower will be able to repay the loan, taking into account historical data on loans issued, along with information on whether the borrower is in default (charge-off).\n",
    "\n",
    "You currently have the data of a lending company. If you want to increase the success of your model, feature engineering is very effective for this. The prerequisite for feature engineering is to know the data well. In the exploratory data analysis process, try to learn the details of the data and plan your actions. Analyzng trends, patterns, and relatonshps in the Data. Examine the correlations of the features with the target variable.\n",
    "\n",
    "Moreover detect missing values and deal with them. Also remove unnecessary or duplicate features. Convert categorical string properties to dummy variables.\n",
    "\n",
    "At the end of this project; You will learn to develop a deep learning model with neural network architecture. Besides, you will learn hands-on about how you can evaluate the prediction success of the model you created.\n"
   ]
  },
  {
   "cell_type": "markdown",
   "metadata": {},
   "source": [
    "---\n",
    "---"
   ]
  },
  {
   "cell_type": "markdown",
   "metadata": {},
   "source": [
    "# #Tasks\n",
    "\n",
    "#### 1. Exploratory Data Analysis\n",
    "\n",
    "- Import Libraries, Load and Review the Data\n",
    "    \n",
    "#### 2. Data Cleaning\n",
    "\n",
    "- Outlier Detection\n",
    "- Handle with Missing Data\n",
    "\n",
    "#### 3. Feature Engineering\n",
    "\n",
    "\n",
    "#### 4. Data Pre-Processing\n",
    "\n",
    "- Train-Test Split\n",
    "- Scaling\n",
    "\n",
    " \n",
    "#### 5. Model Building\n",
    "\n",
    "- Import Libraries\n",
    "- Create a Sequential Model\n",
    "- Compile the Model\n",
    "- Fit the Model\n",
    "\n",
    "\n",
    "#### 6. Evaluating Model Performance\n",
    "- Plot out the validation loss vs. the training loss\n",
    "- Make Prediction\n",
    "- Create classification report and confusion matrix\n"
   ]
  },
  {
   "cell_type": "markdown",
   "metadata": {},
   "source": [
    "---\n",
    "---"
   ]
  },
  {
   "cell_type": "markdown",
   "metadata": {},
   "source": [
    "## 1. Exploratory Data Analysis"
   ]
  },
  {
   "cell_type": "markdown",
   "metadata": {},
   "source": [
    "Get an understanding for which variables are important, view summary statistics, and visualize the data."
   ]
  },
  {
   "cell_type": "markdown",
   "metadata": {},
   "source": [
    "### Import Libraries, Load and Review the Data "
   ]
  },
  {
   "cell_type": "code",
   "execution_count": 53,
   "metadata": {},
   "outputs": [],
   "source": [
    "import pandas as pd\n",
    "import matplotlib.pyplot as plt\n",
    "import seaborn as sns\n",
    "%matplotlib inline\n",
    "pd.set_option('display.max_columns', 55)\n"
   ]
  },
  {
   "cell_type": "code",
   "execution_count": 54,
   "metadata": {},
   "outputs": [
    {
     "data": {
      "text/html": [
       "<div>\n",
       "<style scoped>\n",
       "    .dataframe tbody tr th:only-of-type {\n",
       "        vertical-align: middle;\n",
       "    }\n",
       "\n",
       "    .dataframe tbody tr th {\n",
       "        vertical-align: top;\n",
       "    }\n",
       "\n",
       "    .dataframe thead th {\n",
       "        text-align: right;\n",
       "    }\n",
       "</style>\n",
       "<table border=\"1\" class=\"dataframe\">\n",
       "  <thead>\n",
       "    <tr style=\"text-align: right;\">\n",
       "      <th></th>\n",
       "      <th>loan_amnt</th>\n",
       "      <th>term</th>\n",
       "      <th>int_rate</th>\n",
       "      <th>installment</th>\n",
       "      <th>grade</th>\n",
       "      <th>sub_grade</th>\n",
       "      <th>emp_title</th>\n",
       "      <th>emp_length</th>\n",
       "      <th>home_ownership</th>\n",
       "      <th>annual_inc</th>\n",
       "      <th>verification_status</th>\n",
       "      <th>issue_d</th>\n",
       "      <th>loan_status</th>\n",
       "      <th>purpose</th>\n",
       "      <th>title</th>\n",
       "      <th>dti</th>\n",
       "      <th>earliest_cr_line</th>\n",
       "      <th>open_acc</th>\n",
       "      <th>pub_rec</th>\n",
       "      <th>revol_bal</th>\n",
       "      <th>revol_util</th>\n",
       "      <th>total_acc</th>\n",
       "      <th>initial_list_status</th>\n",
       "      <th>application_type</th>\n",
       "      <th>mort_acc</th>\n",
       "      <th>pub_rec_bankruptcies</th>\n",
       "      <th>address</th>\n",
       "    </tr>\n",
       "  </thead>\n",
       "  <tbody>\n",
       "    <tr>\n",
       "      <th>0</th>\n",
       "      <td>10000.0</td>\n",
       "      <td>36 months</td>\n",
       "      <td>11.44</td>\n",
       "      <td>329.48</td>\n",
       "      <td>B</td>\n",
       "      <td>B4</td>\n",
       "      <td>Marketing</td>\n",
       "      <td>10+ years</td>\n",
       "      <td>RENT</td>\n",
       "      <td>117000.0</td>\n",
       "      <td>Not Verified</td>\n",
       "      <td>Jan-2015</td>\n",
       "      <td>Fully Paid</td>\n",
       "      <td>vacation</td>\n",
       "      <td>Vacation</td>\n",
       "      <td>26.24</td>\n",
       "      <td>Jun-1990</td>\n",
       "      <td>16.0</td>\n",
       "      <td>0.0</td>\n",
       "      <td>36369.0</td>\n",
       "      <td>41.8</td>\n",
       "      <td>25.0</td>\n",
       "      <td>w</td>\n",
       "      <td>INDIVIDUAL</td>\n",
       "      <td>0.0</td>\n",
       "      <td>0.0</td>\n",
       "      <td>0174 Michelle Gateway\\nMendozaberg, OK 22690</td>\n",
       "    </tr>\n",
       "    <tr>\n",
       "      <th>1</th>\n",
       "      <td>8000.0</td>\n",
       "      <td>36 months</td>\n",
       "      <td>11.99</td>\n",
       "      <td>265.68</td>\n",
       "      <td>B</td>\n",
       "      <td>B5</td>\n",
       "      <td>Credit analyst</td>\n",
       "      <td>4 years</td>\n",
       "      <td>MORTGAGE</td>\n",
       "      <td>65000.0</td>\n",
       "      <td>Not Verified</td>\n",
       "      <td>Jan-2015</td>\n",
       "      <td>Fully Paid</td>\n",
       "      <td>debt_consolidation</td>\n",
       "      <td>Debt consolidation</td>\n",
       "      <td>22.05</td>\n",
       "      <td>Jul-2004</td>\n",
       "      <td>17.0</td>\n",
       "      <td>0.0</td>\n",
       "      <td>20131.0</td>\n",
       "      <td>53.3</td>\n",
       "      <td>27.0</td>\n",
       "      <td>f</td>\n",
       "      <td>INDIVIDUAL</td>\n",
       "      <td>3.0</td>\n",
       "      <td>0.0</td>\n",
       "      <td>1076 Carney Fort Apt. 347\\nLoganmouth, SD 05113</td>\n",
       "    </tr>\n",
       "    <tr>\n",
       "      <th>2</th>\n",
       "      <td>15600.0</td>\n",
       "      <td>36 months</td>\n",
       "      <td>10.49</td>\n",
       "      <td>506.97</td>\n",
       "      <td>B</td>\n",
       "      <td>B3</td>\n",
       "      <td>Statistician</td>\n",
       "      <td>&lt; 1 year</td>\n",
       "      <td>RENT</td>\n",
       "      <td>43057.0</td>\n",
       "      <td>Source Verified</td>\n",
       "      <td>Jan-2015</td>\n",
       "      <td>Fully Paid</td>\n",
       "      <td>credit_card</td>\n",
       "      <td>Credit card refinancing</td>\n",
       "      <td>12.79</td>\n",
       "      <td>Aug-2007</td>\n",
       "      <td>13.0</td>\n",
       "      <td>0.0</td>\n",
       "      <td>11987.0</td>\n",
       "      <td>92.2</td>\n",
       "      <td>26.0</td>\n",
       "      <td>f</td>\n",
       "      <td>INDIVIDUAL</td>\n",
       "      <td>0.0</td>\n",
       "      <td>0.0</td>\n",
       "      <td>87025 Mark Dale Apt. 269\\nNew Sabrina, WV 05113</td>\n",
       "    </tr>\n",
       "    <tr>\n",
       "      <th>3</th>\n",
       "      <td>7200.0</td>\n",
       "      <td>36 months</td>\n",
       "      <td>6.49</td>\n",
       "      <td>220.65</td>\n",
       "      <td>A</td>\n",
       "      <td>A2</td>\n",
       "      <td>Client Advocate</td>\n",
       "      <td>6 years</td>\n",
       "      <td>RENT</td>\n",
       "      <td>54000.0</td>\n",
       "      <td>Not Verified</td>\n",
       "      <td>Nov-2014</td>\n",
       "      <td>Fully Paid</td>\n",
       "      <td>credit_card</td>\n",
       "      <td>Credit card refinancing</td>\n",
       "      <td>2.60</td>\n",
       "      <td>Sep-2006</td>\n",
       "      <td>6.0</td>\n",
       "      <td>0.0</td>\n",
       "      <td>5472.0</td>\n",
       "      <td>21.5</td>\n",
       "      <td>13.0</td>\n",
       "      <td>f</td>\n",
       "      <td>INDIVIDUAL</td>\n",
       "      <td>0.0</td>\n",
       "      <td>0.0</td>\n",
       "      <td>823 Reid Ford\\nDelacruzside, MA 00813</td>\n",
       "    </tr>\n",
       "    <tr>\n",
       "      <th>4</th>\n",
       "      <td>24375.0</td>\n",
       "      <td>60 months</td>\n",
       "      <td>17.27</td>\n",
       "      <td>609.33</td>\n",
       "      <td>C</td>\n",
       "      <td>C5</td>\n",
       "      <td>Destiny Management Inc.</td>\n",
       "      <td>9 years</td>\n",
       "      <td>MORTGAGE</td>\n",
       "      <td>55000.0</td>\n",
       "      <td>Verified</td>\n",
       "      <td>Apr-2013</td>\n",
       "      <td>Charged Off</td>\n",
       "      <td>credit_card</td>\n",
       "      <td>Credit Card Refinance</td>\n",
       "      <td>33.95</td>\n",
       "      <td>Mar-1999</td>\n",
       "      <td>13.0</td>\n",
       "      <td>0.0</td>\n",
       "      <td>24584.0</td>\n",
       "      <td>69.8</td>\n",
       "      <td>43.0</td>\n",
       "      <td>f</td>\n",
       "      <td>INDIVIDUAL</td>\n",
       "      <td>1.0</td>\n",
       "      <td>0.0</td>\n",
       "      <td>679 Luna Roads\\nGreggshire, VA 11650</td>\n",
       "    </tr>\n",
       "    <tr>\n",
       "      <th>...</th>\n",
       "      <td>...</td>\n",
       "      <td>...</td>\n",
       "      <td>...</td>\n",
       "      <td>...</td>\n",
       "      <td>...</td>\n",
       "      <td>...</td>\n",
       "      <td>...</td>\n",
       "      <td>...</td>\n",
       "      <td>...</td>\n",
       "      <td>...</td>\n",
       "      <td>...</td>\n",
       "      <td>...</td>\n",
       "      <td>...</td>\n",
       "      <td>...</td>\n",
       "      <td>...</td>\n",
       "      <td>...</td>\n",
       "      <td>...</td>\n",
       "      <td>...</td>\n",
       "      <td>...</td>\n",
       "      <td>...</td>\n",
       "      <td>...</td>\n",
       "      <td>...</td>\n",
       "      <td>...</td>\n",
       "      <td>...</td>\n",
       "      <td>...</td>\n",
       "      <td>...</td>\n",
       "      <td>...</td>\n",
       "    </tr>\n",
       "    <tr>\n",
       "      <th>396025</th>\n",
       "      <td>10000.0</td>\n",
       "      <td>60 months</td>\n",
       "      <td>10.99</td>\n",
       "      <td>217.38</td>\n",
       "      <td>B</td>\n",
       "      <td>B4</td>\n",
       "      <td>licensed bankere</td>\n",
       "      <td>2 years</td>\n",
       "      <td>RENT</td>\n",
       "      <td>40000.0</td>\n",
       "      <td>Source Verified</td>\n",
       "      <td>Oct-2015</td>\n",
       "      <td>Fully Paid</td>\n",
       "      <td>debt_consolidation</td>\n",
       "      <td>Debt consolidation</td>\n",
       "      <td>15.63</td>\n",
       "      <td>Nov-2004</td>\n",
       "      <td>6.0</td>\n",
       "      <td>0.0</td>\n",
       "      <td>1990.0</td>\n",
       "      <td>34.3</td>\n",
       "      <td>23.0</td>\n",
       "      <td>w</td>\n",
       "      <td>INDIVIDUAL</td>\n",
       "      <td>0.0</td>\n",
       "      <td>0.0</td>\n",
       "      <td>12951 Williams Crossing\\nJohnnyville, DC 30723</td>\n",
       "    </tr>\n",
       "    <tr>\n",
       "      <th>396026</th>\n",
       "      <td>21000.0</td>\n",
       "      <td>36 months</td>\n",
       "      <td>12.29</td>\n",
       "      <td>700.42</td>\n",
       "      <td>C</td>\n",
       "      <td>C1</td>\n",
       "      <td>Agent</td>\n",
       "      <td>5 years</td>\n",
       "      <td>MORTGAGE</td>\n",
       "      <td>110000.0</td>\n",
       "      <td>Source Verified</td>\n",
       "      <td>Feb-2015</td>\n",
       "      <td>Fully Paid</td>\n",
       "      <td>debt_consolidation</td>\n",
       "      <td>Debt consolidation</td>\n",
       "      <td>21.45</td>\n",
       "      <td>Feb-2006</td>\n",
       "      <td>6.0</td>\n",
       "      <td>0.0</td>\n",
       "      <td>43263.0</td>\n",
       "      <td>95.7</td>\n",
       "      <td>8.0</td>\n",
       "      <td>f</td>\n",
       "      <td>INDIVIDUAL</td>\n",
       "      <td>1.0</td>\n",
       "      <td>0.0</td>\n",
       "      <td>0114 Fowler Field Suite 028\\nRachelborough, LA...</td>\n",
       "    </tr>\n",
       "    <tr>\n",
       "      <th>396027</th>\n",
       "      <td>5000.0</td>\n",
       "      <td>36 months</td>\n",
       "      <td>9.99</td>\n",
       "      <td>161.32</td>\n",
       "      <td>B</td>\n",
       "      <td>B1</td>\n",
       "      <td>City Carrier</td>\n",
       "      <td>10+ years</td>\n",
       "      <td>RENT</td>\n",
       "      <td>56500.0</td>\n",
       "      <td>Verified</td>\n",
       "      <td>Oct-2013</td>\n",
       "      <td>Fully Paid</td>\n",
       "      <td>debt_consolidation</td>\n",
       "      <td>pay off credit cards</td>\n",
       "      <td>17.56</td>\n",
       "      <td>Mar-1997</td>\n",
       "      <td>15.0</td>\n",
       "      <td>0.0</td>\n",
       "      <td>32704.0</td>\n",
       "      <td>66.9</td>\n",
       "      <td>23.0</td>\n",
       "      <td>f</td>\n",
       "      <td>INDIVIDUAL</td>\n",
       "      <td>0.0</td>\n",
       "      <td>0.0</td>\n",
       "      <td>953 Matthew Points Suite 414\\nReedfort, NY 70466</td>\n",
       "    </tr>\n",
       "    <tr>\n",
       "      <th>396028</th>\n",
       "      <td>21000.0</td>\n",
       "      <td>60 months</td>\n",
       "      <td>15.31</td>\n",
       "      <td>503.02</td>\n",
       "      <td>C</td>\n",
       "      <td>C2</td>\n",
       "      <td>Gracon Services, Inc</td>\n",
       "      <td>10+ years</td>\n",
       "      <td>MORTGAGE</td>\n",
       "      <td>64000.0</td>\n",
       "      <td>Verified</td>\n",
       "      <td>Aug-2012</td>\n",
       "      <td>Fully Paid</td>\n",
       "      <td>debt_consolidation</td>\n",
       "      <td>Loanforpayoff</td>\n",
       "      <td>15.88</td>\n",
       "      <td>Nov-1990</td>\n",
       "      <td>9.0</td>\n",
       "      <td>0.0</td>\n",
       "      <td>15704.0</td>\n",
       "      <td>53.8</td>\n",
       "      <td>20.0</td>\n",
       "      <td>f</td>\n",
       "      <td>INDIVIDUAL</td>\n",
       "      <td>5.0</td>\n",
       "      <td>0.0</td>\n",
       "      <td>7843 Blake Freeway Apt. 229\\nNew Michael, FL 2...</td>\n",
       "    </tr>\n",
       "    <tr>\n",
       "      <th>396029</th>\n",
       "      <td>2000.0</td>\n",
       "      <td>36 months</td>\n",
       "      <td>13.61</td>\n",
       "      <td>67.98</td>\n",
       "      <td>C</td>\n",
       "      <td>C2</td>\n",
       "      <td>Internal Revenue Service</td>\n",
       "      <td>10+ years</td>\n",
       "      <td>RENT</td>\n",
       "      <td>42996.0</td>\n",
       "      <td>Verified</td>\n",
       "      <td>Jun-2010</td>\n",
       "      <td>Fully Paid</td>\n",
       "      <td>debt_consolidation</td>\n",
       "      <td>Toxic Debt Payoff</td>\n",
       "      <td>8.32</td>\n",
       "      <td>Sep-1998</td>\n",
       "      <td>3.0</td>\n",
       "      <td>0.0</td>\n",
       "      <td>4292.0</td>\n",
       "      <td>91.3</td>\n",
       "      <td>19.0</td>\n",
       "      <td>f</td>\n",
       "      <td>INDIVIDUAL</td>\n",
       "      <td>NaN</td>\n",
       "      <td>0.0</td>\n",
       "      <td>787 Michelle Causeway\\nBriannaton, AR 48052</td>\n",
       "    </tr>\n",
       "  </tbody>\n",
       "</table>\n",
       "<p>396030 rows × 27 columns</p>\n",
       "</div>"
      ],
      "text/plain": [
       "        loan_amnt        term  int_rate  installment grade sub_grade  \\\n",
       "0         10000.0   36 months     11.44       329.48     B        B4   \n",
       "1          8000.0   36 months     11.99       265.68     B        B5   \n",
       "2         15600.0   36 months     10.49       506.97     B        B3   \n",
       "3          7200.0   36 months      6.49       220.65     A        A2   \n",
       "4         24375.0   60 months     17.27       609.33     C        C5   \n",
       "...           ...         ...       ...          ...   ...       ...   \n",
       "396025    10000.0   60 months     10.99       217.38     B        B4   \n",
       "396026    21000.0   36 months     12.29       700.42     C        C1   \n",
       "396027     5000.0   36 months      9.99       161.32     B        B1   \n",
       "396028    21000.0   60 months     15.31       503.02     C        C2   \n",
       "396029     2000.0   36 months     13.61        67.98     C        C2   \n",
       "\n",
       "                       emp_title emp_length home_ownership  annual_inc  \\\n",
       "0                      Marketing  10+ years           RENT    117000.0   \n",
       "1                Credit analyst     4 years       MORTGAGE     65000.0   \n",
       "2                   Statistician   < 1 year           RENT     43057.0   \n",
       "3                Client Advocate    6 years           RENT     54000.0   \n",
       "4        Destiny Management Inc.    9 years       MORTGAGE     55000.0   \n",
       "...                          ...        ...            ...         ...   \n",
       "396025          licensed bankere    2 years           RENT     40000.0   \n",
       "396026                     Agent    5 years       MORTGAGE    110000.0   \n",
       "396027              City Carrier  10+ years           RENT     56500.0   \n",
       "396028      Gracon Services, Inc  10+ years       MORTGAGE     64000.0   \n",
       "396029  Internal Revenue Service  10+ years           RENT     42996.0   \n",
       "\n",
       "       verification_status   issue_d  loan_status             purpose  \\\n",
       "0             Not Verified  Jan-2015   Fully Paid            vacation   \n",
       "1             Not Verified  Jan-2015   Fully Paid  debt_consolidation   \n",
       "2          Source Verified  Jan-2015   Fully Paid         credit_card   \n",
       "3             Not Verified  Nov-2014   Fully Paid         credit_card   \n",
       "4                 Verified  Apr-2013  Charged Off         credit_card   \n",
       "...                    ...       ...          ...                 ...   \n",
       "396025     Source Verified  Oct-2015   Fully Paid  debt_consolidation   \n",
       "396026     Source Verified  Feb-2015   Fully Paid  debt_consolidation   \n",
       "396027            Verified  Oct-2013   Fully Paid  debt_consolidation   \n",
       "396028            Verified  Aug-2012   Fully Paid  debt_consolidation   \n",
       "396029            Verified  Jun-2010   Fully Paid  debt_consolidation   \n",
       "\n",
       "                          title    dti earliest_cr_line  open_acc  pub_rec  \\\n",
       "0                      Vacation  26.24         Jun-1990      16.0      0.0   \n",
       "1            Debt consolidation  22.05         Jul-2004      17.0      0.0   \n",
       "2       Credit card refinancing  12.79         Aug-2007      13.0      0.0   \n",
       "3       Credit card refinancing   2.60         Sep-2006       6.0      0.0   \n",
       "4         Credit Card Refinance  33.95         Mar-1999      13.0      0.0   \n",
       "...                         ...    ...              ...       ...      ...   \n",
       "396025       Debt consolidation  15.63         Nov-2004       6.0      0.0   \n",
       "396026       Debt consolidation  21.45         Feb-2006       6.0      0.0   \n",
       "396027     pay off credit cards  17.56         Mar-1997      15.0      0.0   \n",
       "396028            Loanforpayoff  15.88         Nov-1990       9.0      0.0   \n",
       "396029        Toxic Debt Payoff   8.32         Sep-1998       3.0      0.0   \n",
       "\n",
       "        revol_bal  revol_util  total_acc initial_list_status application_type  \\\n",
       "0         36369.0        41.8       25.0                   w       INDIVIDUAL   \n",
       "1         20131.0        53.3       27.0                   f       INDIVIDUAL   \n",
       "2         11987.0        92.2       26.0                   f       INDIVIDUAL   \n",
       "3          5472.0        21.5       13.0                   f       INDIVIDUAL   \n",
       "4         24584.0        69.8       43.0                   f       INDIVIDUAL   \n",
       "...           ...         ...        ...                 ...              ...   \n",
       "396025     1990.0        34.3       23.0                   w       INDIVIDUAL   \n",
       "396026    43263.0        95.7        8.0                   f       INDIVIDUAL   \n",
       "396027    32704.0        66.9       23.0                   f       INDIVIDUAL   \n",
       "396028    15704.0        53.8       20.0                   f       INDIVIDUAL   \n",
       "396029     4292.0        91.3       19.0                   f       INDIVIDUAL   \n",
       "\n",
       "        mort_acc  pub_rec_bankruptcies  \\\n",
       "0            0.0                   0.0   \n",
       "1            3.0                   0.0   \n",
       "2            0.0                   0.0   \n",
       "3            0.0                   0.0   \n",
       "4            1.0                   0.0   \n",
       "...          ...                   ...   \n",
       "396025       0.0                   0.0   \n",
       "396026       1.0                   0.0   \n",
       "396027       0.0                   0.0   \n",
       "396028       5.0                   0.0   \n",
       "396029       NaN                   0.0   \n",
       "\n",
       "                                                  address  \n",
       "0            0174 Michelle Gateway\\nMendozaberg, OK 22690  \n",
       "1         1076 Carney Fort Apt. 347\\nLoganmouth, SD 05113  \n",
       "2         87025 Mark Dale Apt. 269\\nNew Sabrina, WV 05113  \n",
       "3                   823 Reid Ford\\nDelacruzside, MA 00813  \n",
       "4                    679 Luna Roads\\nGreggshire, VA 11650  \n",
       "...                                                   ...  \n",
       "396025     12951 Williams Crossing\\nJohnnyville, DC 30723  \n",
       "396026  0114 Fowler Field Suite 028\\nRachelborough, LA...  \n",
       "396027   953 Matthew Points Suite 414\\nReedfort, NY 70466  \n",
       "396028  7843 Blake Freeway Apt. 229\\nNew Michael, FL 2...  \n",
       "396029        787 Michelle Causeway\\nBriannaton, AR 48052  \n",
       "\n",
       "[396030 rows x 27 columns]"
      ]
     },
     "execution_count": 54,
     "metadata": {},
     "output_type": "execute_result"
    }
   ],
   "source": [
    "df = pd.read_csv('lending_club_loan_two.csv')\n",
    "df"
   ]
  },
  {
   "cell_type": "code",
   "execution_count": 55,
   "metadata": {},
   "outputs": [],
   "source": [
    "df_org = df.copy()"
   ]
  },
  {
   "cell_type": "code",
   "execution_count": 56,
   "metadata": {},
   "outputs": [
    {
     "data": {
      "text/html": [
       "<div>\n",
       "<style scoped>\n",
       "    .dataframe tbody tr th:only-of-type {\n",
       "        vertical-align: middle;\n",
       "    }\n",
       "\n",
       "    .dataframe tbody tr th {\n",
       "        vertical-align: top;\n",
       "    }\n",
       "\n",
       "    .dataframe thead th {\n",
       "        text-align: right;\n",
       "    }\n",
       "</style>\n",
       "<table border=\"1\" class=\"dataframe\">\n",
       "  <thead>\n",
       "    <tr style=\"text-align: right;\">\n",
       "      <th></th>\n",
       "      <th>count</th>\n",
       "      <th>mean</th>\n",
       "      <th>std</th>\n",
       "      <th>min</th>\n",
       "      <th>25%</th>\n",
       "      <th>50%</th>\n",
       "      <th>75%</th>\n",
       "      <th>max</th>\n",
       "    </tr>\n",
       "  </thead>\n",
       "  <tbody>\n",
       "    <tr>\n",
       "      <th>loan_amnt</th>\n",
       "      <td>396030.0</td>\n",
       "      <td>14113.888089</td>\n",
       "      <td>8357.441341</td>\n",
       "      <td>500.00</td>\n",
       "      <td>8000.00</td>\n",
       "      <td>12000.00</td>\n",
       "      <td>20000.00</td>\n",
       "      <td>40000.00</td>\n",
       "    </tr>\n",
       "    <tr>\n",
       "      <th>int_rate</th>\n",
       "      <td>396030.0</td>\n",
       "      <td>13.639400</td>\n",
       "      <td>4.472157</td>\n",
       "      <td>5.32</td>\n",
       "      <td>10.49</td>\n",
       "      <td>13.33</td>\n",
       "      <td>16.49</td>\n",
       "      <td>30.99</td>\n",
       "    </tr>\n",
       "    <tr>\n",
       "      <th>installment</th>\n",
       "      <td>396030.0</td>\n",
       "      <td>431.849698</td>\n",
       "      <td>250.727790</td>\n",
       "      <td>16.08</td>\n",
       "      <td>250.33</td>\n",
       "      <td>375.43</td>\n",
       "      <td>567.30</td>\n",
       "      <td>1533.81</td>\n",
       "    </tr>\n",
       "    <tr>\n",
       "      <th>annual_inc</th>\n",
       "      <td>396030.0</td>\n",
       "      <td>74203.175798</td>\n",
       "      <td>61637.621158</td>\n",
       "      <td>0.00</td>\n",
       "      <td>45000.00</td>\n",
       "      <td>64000.00</td>\n",
       "      <td>90000.00</td>\n",
       "      <td>8706582.00</td>\n",
       "    </tr>\n",
       "    <tr>\n",
       "      <th>dti</th>\n",
       "      <td>396030.0</td>\n",
       "      <td>17.379514</td>\n",
       "      <td>18.019092</td>\n",
       "      <td>0.00</td>\n",
       "      <td>11.28</td>\n",
       "      <td>16.91</td>\n",
       "      <td>22.98</td>\n",
       "      <td>9999.00</td>\n",
       "    </tr>\n",
       "    <tr>\n",
       "      <th>open_acc</th>\n",
       "      <td>396030.0</td>\n",
       "      <td>11.311153</td>\n",
       "      <td>5.137649</td>\n",
       "      <td>0.00</td>\n",
       "      <td>8.00</td>\n",
       "      <td>10.00</td>\n",
       "      <td>14.00</td>\n",
       "      <td>90.00</td>\n",
       "    </tr>\n",
       "    <tr>\n",
       "      <th>pub_rec</th>\n",
       "      <td>396030.0</td>\n",
       "      <td>0.178191</td>\n",
       "      <td>0.530671</td>\n",
       "      <td>0.00</td>\n",
       "      <td>0.00</td>\n",
       "      <td>0.00</td>\n",
       "      <td>0.00</td>\n",
       "      <td>86.00</td>\n",
       "    </tr>\n",
       "    <tr>\n",
       "      <th>revol_bal</th>\n",
       "      <td>396030.0</td>\n",
       "      <td>15844.539853</td>\n",
       "      <td>20591.836109</td>\n",
       "      <td>0.00</td>\n",
       "      <td>6025.00</td>\n",
       "      <td>11181.00</td>\n",
       "      <td>19620.00</td>\n",
       "      <td>1743266.00</td>\n",
       "    </tr>\n",
       "    <tr>\n",
       "      <th>revol_util</th>\n",
       "      <td>395754.0</td>\n",
       "      <td>53.791749</td>\n",
       "      <td>24.452193</td>\n",
       "      <td>0.00</td>\n",
       "      <td>35.80</td>\n",
       "      <td>54.80</td>\n",
       "      <td>72.90</td>\n",
       "      <td>892.30</td>\n",
       "    </tr>\n",
       "    <tr>\n",
       "      <th>total_acc</th>\n",
       "      <td>396030.0</td>\n",
       "      <td>25.414744</td>\n",
       "      <td>11.886991</td>\n",
       "      <td>2.00</td>\n",
       "      <td>17.00</td>\n",
       "      <td>24.00</td>\n",
       "      <td>32.00</td>\n",
       "      <td>151.00</td>\n",
       "    </tr>\n",
       "    <tr>\n",
       "      <th>mort_acc</th>\n",
       "      <td>358235.0</td>\n",
       "      <td>1.813991</td>\n",
       "      <td>2.147930</td>\n",
       "      <td>0.00</td>\n",
       "      <td>0.00</td>\n",
       "      <td>1.00</td>\n",
       "      <td>3.00</td>\n",
       "      <td>34.00</td>\n",
       "    </tr>\n",
       "    <tr>\n",
       "      <th>pub_rec_bankruptcies</th>\n",
       "      <td>395495.0</td>\n",
       "      <td>0.121648</td>\n",
       "      <td>0.356174</td>\n",
       "      <td>0.00</td>\n",
       "      <td>0.00</td>\n",
       "      <td>0.00</td>\n",
       "      <td>0.00</td>\n",
       "      <td>8.00</td>\n",
       "    </tr>\n",
       "  </tbody>\n",
       "</table>\n",
       "</div>"
      ],
      "text/plain": [
       "                         count          mean           std     min       25%  \\\n",
       "loan_amnt             396030.0  14113.888089   8357.441341  500.00   8000.00   \n",
       "int_rate              396030.0     13.639400      4.472157    5.32     10.49   \n",
       "installment           396030.0    431.849698    250.727790   16.08    250.33   \n",
       "annual_inc            396030.0  74203.175798  61637.621158    0.00  45000.00   \n",
       "dti                   396030.0     17.379514     18.019092    0.00     11.28   \n",
       "open_acc              396030.0     11.311153      5.137649    0.00      8.00   \n",
       "pub_rec               396030.0      0.178191      0.530671    0.00      0.00   \n",
       "revol_bal             396030.0  15844.539853  20591.836109    0.00   6025.00   \n",
       "revol_util            395754.0     53.791749     24.452193    0.00     35.80   \n",
       "total_acc             396030.0     25.414744     11.886991    2.00     17.00   \n",
       "mort_acc              358235.0      1.813991      2.147930    0.00      0.00   \n",
       "pub_rec_bankruptcies  395495.0      0.121648      0.356174    0.00      0.00   \n",
       "\n",
       "                           50%       75%         max  \n",
       "loan_amnt             12000.00  20000.00    40000.00  \n",
       "int_rate                 13.33     16.49       30.99  \n",
       "installment             375.43    567.30     1533.81  \n",
       "annual_inc            64000.00  90000.00  8706582.00  \n",
       "dti                      16.91     22.98     9999.00  \n",
       "open_acc                 10.00     14.00       90.00  \n",
       "pub_rec                   0.00      0.00       86.00  \n",
       "revol_bal             11181.00  19620.00  1743266.00  \n",
       "revol_util               54.80     72.90      892.30  \n",
       "total_acc                24.00     32.00      151.00  \n",
       "mort_acc                  1.00      3.00       34.00  \n",
       "pub_rec_bankruptcies      0.00      0.00        8.00  "
      ]
     },
     "execution_count": 56,
     "metadata": {},
     "output_type": "execute_result"
    }
   ],
   "source": [
    "df.describe().T"
   ]
  },
  {
   "cell_type": "code",
   "execution_count": 57,
   "metadata": {},
   "outputs": [
    {
     "name": "stdout",
     "output_type": "stream",
     "text": [
      "<class 'pandas.core.frame.DataFrame'>\n",
      "RangeIndex: 396030 entries, 0 to 396029\n",
      "Data columns (total 27 columns):\n",
      " #   Column                Non-Null Count   Dtype  \n",
      "---  ------                --------------   -----  \n",
      " 0   loan_amnt             396030 non-null  float64\n",
      " 1   term                  396030 non-null  object \n",
      " 2   int_rate              396030 non-null  float64\n",
      " 3   installment           396030 non-null  float64\n",
      " 4   grade                 396030 non-null  object \n",
      " 5   sub_grade             396030 non-null  object \n",
      " 6   emp_title             373103 non-null  object \n",
      " 7   emp_length            377729 non-null  object \n",
      " 8   home_ownership        396030 non-null  object \n",
      " 9   annual_inc            396030 non-null  float64\n",
      " 10  verification_status   396030 non-null  object \n",
      " 11  issue_d               396030 non-null  object \n",
      " 12  loan_status           396030 non-null  object \n",
      " 13  purpose               396030 non-null  object \n",
      " 14  title                 394275 non-null  object \n",
      " 15  dti                   396030 non-null  float64\n",
      " 16  earliest_cr_line      396030 non-null  object \n",
      " 17  open_acc              396030 non-null  float64\n",
      " 18  pub_rec               396030 non-null  float64\n",
      " 19  revol_bal             396030 non-null  float64\n",
      " 20  revol_util            395754 non-null  float64\n",
      " 21  total_acc             396030 non-null  float64\n",
      " 22  initial_list_status   396030 non-null  object \n",
      " 23  application_type      396030 non-null  object \n",
      " 24  mort_acc              358235 non-null  float64\n",
      " 25  pub_rec_bankruptcies  395495 non-null  float64\n",
      " 26  address               396030 non-null  object \n",
      "dtypes: float64(12), object(15)\n",
      "memory usage: 81.6+ MB\n"
     ]
    }
   ],
   "source": [
    "df.info()"
   ]
  },
  {
   "cell_type": "markdown",
   "metadata": {},
   "source": [
    "## 2. Data Cleaning, Feature Engineering, Outlier checking"
   ]
  },
  {
   "cell_type": "code",
   "execution_count": 58,
   "metadata": {},
   "outputs": [
    {
     "data": {
      "text/plain": [
       "0"
      ]
     },
     "execution_count": 58,
     "metadata": {},
     "output_type": "execute_result"
    }
   ],
   "source": [
    "df.duplicated().sum()"
   ]
  },
  {
   "cell_type": "code",
   "execution_count": 59,
   "metadata": {
    "scrolled": true
   },
   "outputs": [
    {
     "data": {
      "text/plain": [
       "Fully Paid     318357\n",
       "Charged Off     77673\n",
       "Name: loan_status, dtype: int64"
      ]
     },
     "execution_count": 59,
     "metadata": {},
     "output_type": "execute_result"
    }
   ],
   "source": [
    "df['loan_status'].value_counts()"
   ]
  },
  {
   "cell_type": "code",
   "execution_count": 60,
   "metadata": {},
   "outputs": [
    {
     "data": {
      "text/plain": [
       "1    318357\n",
       "0     77673\n",
       "Name: loan_status, dtype: int64"
      ]
     },
     "execution_count": 60,
     "metadata": {},
     "output_type": "execute_result"
    }
   ],
   "source": [
    "# Target COlumn will be 1 and 0\n",
    "df['loan_status'] = df['loan_status'].apply(lambda x : 1 if x=='Fully Paid' else 0 )\n",
    "df['loan_status'].value_counts()"
   ]
  },
  {
   "cell_type": "code",
   "execution_count": 61,
   "metadata": {},
   "outputs": [
    {
     "data": {
      "text/html": [
       "<div>\n",
       "<style scoped>\n",
       "    .dataframe tbody tr th:only-of-type {\n",
       "        vertical-align: middle;\n",
       "    }\n",
       "\n",
       "    .dataframe tbody tr th {\n",
       "        vertical-align: top;\n",
       "    }\n",
       "\n",
       "    .dataframe thead th {\n",
       "        text-align: right;\n",
       "    }\n",
       "</style>\n",
       "<table border=\"1\" class=\"dataframe\">\n",
       "  <thead>\n",
       "    <tr style=\"text-align: right;\">\n",
       "      <th></th>\n",
       "      <th>loan_amnt</th>\n",
       "      <th>int_rate</th>\n",
       "      <th>installment</th>\n",
       "      <th>annual_inc</th>\n",
       "      <th>loan_status</th>\n",
       "      <th>dti</th>\n",
       "      <th>open_acc</th>\n",
       "      <th>pub_rec</th>\n",
       "      <th>revol_bal</th>\n",
       "      <th>revol_util</th>\n",
       "      <th>total_acc</th>\n",
       "      <th>mort_acc</th>\n",
       "      <th>pub_rec_bankruptcies</th>\n",
       "    </tr>\n",
       "  </thead>\n",
       "  <tbody>\n",
       "    <tr>\n",
       "      <th>loan_amnt</th>\n",
       "      <td>1.000000</td>\n",
       "      <td>0.138946</td>\n",
       "      <td>0.956327</td>\n",
       "      <td>0.340308</td>\n",
       "      <td>NaN</td>\n",
       "      <td>0.035914</td>\n",
       "      <td>0.197178</td>\n",
       "      <td>-0.088461</td>\n",
       "      <td>0.332272</td>\n",
       "      <td>0.098929</td>\n",
       "      <td>0.219784</td>\n",
       "      <td>0.226568</td>\n",
       "      <td>-0.112019</td>\n",
       "    </tr>\n",
       "    <tr>\n",
       "      <th>int_rate</th>\n",
       "      <td>0.138946</td>\n",
       "      <td>1.000000</td>\n",
       "      <td>0.139179</td>\n",
       "      <td>-0.054421</td>\n",
       "      <td>NaN</td>\n",
       "      <td>0.146027</td>\n",
       "      <td>-0.000644</td>\n",
       "      <td>0.071667</td>\n",
       "      <td>-0.010364</td>\n",
       "      <td>0.306540</td>\n",
       "      <td>-0.040173</td>\n",
       "      <td>-0.073768</td>\n",
       "      <td>0.067714</td>\n",
       "    </tr>\n",
       "    <tr>\n",
       "      <th>installment</th>\n",
       "      <td>0.956327</td>\n",
       "      <td>0.139179</td>\n",
       "      <td>1.000000</td>\n",
       "      <td>0.332420</td>\n",
       "      <td>NaN</td>\n",
       "      <td>0.037677</td>\n",
       "      <td>0.188622</td>\n",
       "      <td>-0.078004</td>\n",
       "      <td>0.321159</td>\n",
       "      <td>0.126424</td>\n",
       "      <td>0.199048</td>\n",
       "      <td>0.197089</td>\n",
       "      <td>-0.103614</td>\n",
       "    </tr>\n",
       "    <tr>\n",
       "      <th>annual_inc</th>\n",
       "      <td>0.340308</td>\n",
       "      <td>-0.054421</td>\n",
       "      <td>0.332420</td>\n",
       "      <td>1.000000</td>\n",
       "      <td>NaN</td>\n",
       "      <td>-0.165601</td>\n",
       "      <td>0.137892</td>\n",
       "      <td>-0.018555</td>\n",
       "      <td>0.307467</td>\n",
       "      <td>0.031258</td>\n",
       "      <td>0.194711</td>\n",
       "      <td>0.241498</td>\n",
       "      <td>-0.052619</td>\n",
       "    </tr>\n",
       "    <tr>\n",
       "      <th>loan_status</th>\n",
       "      <td>NaN</td>\n",
       "      <td>NaN</td>\n",
       "      <td>NaN</td>\n",
       "      <td>NaN</td>\n",
       "      <td>NaN</td>\n",
       "      <td>NaN</td>\n",
       "      <td>NaN</td>\n",
       "      <td>NaN</td>\n",
       "      <td>NaN</td>\n",
       "      <td>NaN</td>\n",
       "      <td>NaN</td>\n",
       "      <td>NaN</td>\n",
       "      <td>NaN</td>\n",
       "    </tr>\n",
       "    <tr>\n",
       "      <th>dti</th>\n",
       "      <td>0.035914</td>\n",
       "      <td>0.146027</td>\n",
       "      <td>0.037677</td>\n",
       "      <td>-0.165601</td>\n",
       "      <td>NaN</td>\n",
       "      <td>1.000000</td>\n",
       "      <td>0.286340</td>\n",
       "      <td>-0.042337</td>\n",
       "      <td>0.133422</td>\n",
       "      <td>0.184002</td>\n",
       "      <td>0.217019</td>\n",
       "      <td>-0.048105</td>\n",
       "      <td>-0.034222</td>\n",
       "    </tr>\n",
       "    <tr>\n",
       "      <th>open_acc</th>\n",
       "      <td>0.197178</td>\n",
       "      <td>-0.000644</td>\n",
       "      <td>0.188622</td>\n",
       "      <td>0.137892</td>\n",
       "      <td>NaN</td>\n",
       "      <td>0.286340</td>\n",
       "      <td>1.000000</td>\n",
       "      <td>-0.023450</td>\n",
       "      <td>0.217464</td>\n",
       "      <td>-0.135535</td>\n",
       "      <td>0.680301</td>\n",
       "      <td>0.112108</td>\n",
       "      <td>-0.033370</td>\n",
       "    </tr>\n",
       "    <tr>\n",
       "      <th>pub_rec</th>\n",
       "      <td>-0.088461</td>\n",
       "      <td>0.071667</td>\n",
       "      <td>-0.078004</td>\n",
       "      <td>-0.018555</td>\n",
       "      <td>NaN</td>\n",
       "      <td>-0.042337</td>\n",
       "      <td>-0.023450</td>\n",
       "      <td>1.000000</td>\n",
       "      <td>-0.106363</td>\n",
       "      <td>-0.075424</td>\n",
       "      <td>0.020038</td>\n",
       "      <td>0.014327</td>\n",
       "      <td>0.738395</td>\n",
       "    </tr>\n",
       "    <tr>\n",
       "      <th>revol_bal</th>\n",
       "      <td>0.332272</td>\n",
       "      <td>-0.010364</td>\n",
       "      <td>0.321159</td>\n",
       "      <td>0.307467</td>\n",
       "      <td>NaN</td>\n",
       "      <td>0.133422</td>\n",
       "      <td>0.217464</td>\n",
       "      <td>-0.106363</td>\n",
       "      <td>1.000000</td>\n",
       "      <td>0.225179</td>\n",
       "      <td>0.187108</td>\n",
       "      <td>0.192424</td>\n",
       "      <td>-0.124896</td>\n",
       "    </tr>\n",
       "    <tr>\n",
       "      <th>revol_util</th>\n",
       "      <td>0.098929</td>\n",
       "      <td>0.306540</td>\n",
       "      <td>0.126424</td>\n",
       "      <td>0.031258</td>\n",
       "      <td>NaN</td>\n",
       "      <td>0.184002</td>\n",
       "      <td>-0.135535</td>\n",
       "      <td>-0.075424</td>\n",
       "      <td>0.225179</td>\n",
       "      <td>1.000000</td>\n",
       "      <td>-0.104768</td>\n",
       "      <td>0.010192</td>\n",
       "      <td>-0.082362</td>\n",
       "    </tr>\n",
       "    <tr>\n",
       "      <th>total_acc</th>\n",
       "      <td>0.219784</td>\n",
       "      <td>-0.040173</td>\n",
       "      <td>0.199048</td>\n",
       "      <td>0.194711</td>\n",
       "      <td>NaN</td>\n",
       "      <td>0.217019</td>\n",
       "      <td>0.680301</td>\n",
       "      <td>0.020038</td>\n",
       "      <td>0.187108</td>\n",
       "      <td>-0.104768</td>\n",
       "      <td>1.000000</td>\n",
       "      <td>0.384191</td>\n",
       "      <td>0.038306</td>\n",
       "    </tr>\n",
       "    <tr>\n",
       "      <th>mort_acc</th>\n",
       "      <td>0.226568</td>\n",
       "      <td>-0.073768</td>\n",
       "      <td>0.197089</td>\n",
       "      <td>0.241498</td>\n",
       "      <td>NaN</td>\n",
       "      <td>-0.048105</td>\n",
       "      <td>0.112108</td>\n",
       "      <td>0.014327</td>\n",
       "      <td>0.192424</td>\n",
       "      <td>0.010192</td>\n",
       "      <td>0.384191</td>\n",
       "      <td>1.000000</td>\n",
       "      <td>0.025758</td>\n",
       "    </tr>\n",
       "    <tr>\n",
       "      <th>pub_rec_bankruptcies</th>\n",
       "      <td>-0.112019</td>\n",
       "      <td>0.067714</td>\n",
       "      <td>-0.103614</td>\n",
       "      <td>-0.052619</td>\n",
       "      <td>NaN</td>\n",
       "      <td>-0.034222</td>\n",
       "      <td>-0.033370</td>\n",
       "      <td>0.738395</td>\n",
       "      <td>-0.124896</td>\n",
       "      <td>-0.082362</td>\n",
       "      <td>0.038306</td>\n",
       "      <td>0.025758</td>\n",
       "      <td>1.000000</td>\n",
       "    </tr>\n",
       "  </tbody>\n",
       "</table>\n",
       "</div>"
      ],
      "text/plain": [
       "                      loan_amnt  int_rate  installment  annual_inc  \\\n",
       "loan_amnt              1.000000  0.138946     0.956327    0.340308   \n",
       "int_rate               0.138946  1.000000     0.139179   -0.054421   \n",
       "installment            0.956327  0.139179     1.000000    0.332420   \n",
       "annual_inc             0.340308 -0.054421     0.332420    1.000000   \n",
       "loan_status                 NaN       NaN          NaN         NaN   \n",
       "dti                    0.035914  0.146027     0.037677   -0.165601   \n",
       "open_acc               0.197178 -0.000644     0.188622    0.137892   \n",
       "pub_rec               -0.088461  0.071667    -0.078004   -0.018555   \n",
       "revol_bal              0.332272 -0.010364     0.321159    0.307467   \n",
       "revol_util             0.098929  0.306540     0.126424    0.031258   \n",
       "total_acc              0.219784 -0.040173     0.199048    0.194711   \n",
       "mort_acc               0.226568 -0.073768     0.197089    0.241498   \n",
       "pub_rec_bankruptcies  -0.112019  0.067714    -0.103614   -0.052619   \n",
       "\n",
       "                      loan_status       dti  open_acc   pub_rec  revol_bal  \\\n",
       "loan_amnt                     NaN  0.035914  0.197178 -0.088461   0.332272   \n",
       "int_rate                      NaN  0.146027 -0.000644  0.071667  -0.010364   \n",
       "installment                   NaN  0.037677  0.188622 -0.078004   0.321159   \n",
       "annual_inc                    NaN -0.165601  0.137892 -0.018555   0.307467   \n",
       "loan_status                   NaN       NaN       NaN       NaN        NaN   \n",
       "dti                           NaN  1.000000  0.286340 -0.042337   0.133422   \n",
       "open_acc                      NaN  0.286340  1.000000 -0.023450   0.217464   \n",
       "pub_rec                       NaN -0.042337 -0.023450  1.000000  -0.106363   \n",
       "revol_bal                     NaN  0.133422  0.217464 -0.106363   1.000000   \n",
       "revol_util                    NaN  0.184002 -0.135535 -0.075424   0.225179   \n",
       "total_acc                     NaN  0.217019  0.680301  0.020038   0.187108   \n",
       "mort_acc                      NaN -0.048105  0.112108  0.014327   0.192424   \n",
       "pub_rec_bankruptcies          NaN -0.034222 -0.033370  0.738395  -0.124896   \n",
       "\n",
       "                      revol_util  total_acc  mort_acc  pub_rec_bankruptcies  \n",
       "loan_amnt               0.098929   0.219784  0.226568             -0.112019  \n",
       "int_rate                0.306540  -0.040173 -0.073768              0.067714  \n",
       "installment             0.126424   0.199048  0.197089             -0.103614  \n",
       "annual_inc              0.031258   0.194711  0.241498             -0.052619  \n",
       "loan_status                  NaN        NaN       NaN                   NaN  \n",
       "dti                     0.184002   0.217019 -0.048105             -0.034222  \n",
       "open_acc               -0.135535   0.680301  0.112108             -0.033370  \n",
       "pub_rec                -0.075424   0.020038  0.014327              0.738395  \n",
       "revol_bal               0.225179   0.187108  0.192424             -0.124896  \n",
       "revol_util              1.000000  -0.104768  0.010192             -0.082362  \n",
       "total_acc              -0.104768   1.000000  0.384191              0.038306  \n",
       "mort_acc                0.010192   0.384191  1.000000              0.025758  \n",
       "pub_rec_bankruptcies   -0.082362   0.038306  0.025758              1.000000  "
      ]
     },
     "execution_count": 61,
     "metadata": {},
     "output_type": "execute_result"
    }
   ],
   "source": [
    "dfx = df[df['loan_status'] == 1]\n",
    "dfx.corr()"
   ]
  },
  {
   "cell_type": "code",
   "execution_count": 62,
   "metadata": {
    "scrolled": true
   },
   "outputs": [
    {
     "data": {
      "text/plain": [
       "loan_status             1.000000\n",
       "mort_acc                0.073111\n",
       "annual_inc              0.053432\n",
       "total_acc               0.017893\n",
       "revol_bal               0.010892\n",
       "pub_rec_bankruptcies   -0.009383\n",
       "pub_rec                -0.019933\n",
       "open_acc               -0.028012\n",
       "installment            -0.041082\n",
       "loan_amnt              -0.059836\n",
       "dti                    -0.062413\n",
       "revol_util             -0.082373\n",
       "int_rate               -0.247758\n",
       "Name: loan_status, dtype: float64"
      ]
     },
     "execution_count": 62,
     "metadata": {},
     "output_type": "execute_result"
    }
   ],
   "source": [
    "df.corr()['loan_status'].sort_values(ascending = False)"
   ]
  },
  {
   "cell_type": "code",
   "execution_count": 63,
   "metadata": {},
   "outputs": [
    {
     "data": {
      "text/plain": [
       " 36 months    302005\n",
       " 60 months     94025\n",
       "Name: term, dtype: int64"
      ]
     },
     "execution_count": 63,
     "metadata": {},
     "output_type": "execute_result"
    }
   ],
   "source": [
    "df['term'].value_counts()"
   ]
  },
  {
   "cell_type": "code",
   "execution_count": 64,
   "metadata": {},
   "outputs": [
    {
     "data": {
      "text/plain": [
       "36    302005\n",
       "60     94025\n",
       "Name: term, dtype: int64"
      ]
     },
     "execution_count": 64,
     "metadata": {},
     "output_type": "execute_result"
    }
   ],
   "source": [
    "df['term'] = df['term'].str.split().str[0]\n",
    "df['term'] = df['term'].astype('int')\n",
    "df['term'].value_counts()"
   ]
  },
  {
   "cell_type": "code",
   "execution_count": 65,
   "metadata": {},
   "outputs": [
    {
     "data": {
      "text/plain": [
       "B    116018\n",
       "C    105987\n",
       "A     64187\n",
       "D     63524\n",
       "E     31488\n",
       "F     11772\n",
       "G      3054\n",
       "Name: grade, dtype: int64"
      ]
     },
     "execution_count": 65,
     "metadata": {},
     "output_type": "execute_result"
    }
   ],
   "source": [
    "df.grade.value_counts()#Label encoder ?> "
   ]
  },
  {
   "cell_type": "code",
   "execution_count": 66,
   "metadata": {},
   "outputs": [
    {
     "data": {
      "text/plain": [
       "B3    26655\n",
       "B4    25601\n",
       "C1    23662\n",
       "C2    22580\n",
       "B2    22495\n",
       "B5    22085\n",
       "C3    21221\n",
       "C4    20280\n",
       "B1    19182\n",
       "A5    18526\n",
       "C5    18244\n",
       "D1    15993\n",
       "A4    15789\n",
       "D2    13951\n",
       "D3    12223\n",
       "D4    11657\n",
       "A3    10576\n",
       "A1     9729\n",
       "D5     9700\n",
       "A2     9567\n",
       "E1     7917\n",
       "E2     7431\n",
       "E3     6207\n",
       "E4     5361\n",
       "E5     4572\n",
       "F1     3536\n",
       "F2     2766\n",
       "F3     2286\n",
       "F4     1787\n",
       "F5     1397\n",
       "G1     1058\n",
       "G2      754\n",
       "G3      552\n",
       "G4      374\n",
       "G5      316\n",
       "Name: sub_grade, dtype: int64"
      ]
     },
     "execution_count": 66,
     "metadata": {},
     "output_type": "execute_result"
    }
   ],
   "source": [
    "df.sub_grade.value_counts()#Label encoder ?> "
   ]
  },
  {
   "cell_type": "code",
   "execution_count": 67,
   "metadata": {},
   "outputs": [
    {
     "data": {
      "text/plain": [
       "173105"
      ]
     },
     "execution_count": 67,
     "metadata": {},
     "output_type": "execute_result"
    }
   ],
   "source": [
    "df['emp_title'].nunique()"
   ]
  },
  {
   "cell_type": "code",
   "execution_count": 68,
   "metadata": {
    "scrolled": true
   },
   "outputs": [
    {
     "data": {
      "text/plain": [
       "Teacher                          4389\n",
       "Manager                          4250\n",
       "Registered Nurse                 1856\n",
       "RN                               1846\n",
       "Supervisor                       1830\n",
       "                                 ... \n",
       "Redbox Automated Retail             1\n",
       "Customer Service/Accounting         1\n",
       "Sheet metal worker(foreman)         1\n",
       "Safe Deposit Drill Specialist       1\n",
       "Pride Academy Charter School        1\n",
       "Name: emp_title, Length: 173105, dtype: int64"
      ]
     },
     "execution_count": 68,
     "metadata": {},
     "output_type": "execute_result"
    }
   ],
   "source": [
    "df['emp_title'].value_counts() #make decision later"
   ]
  },
  {
   "cell_type": "code",
   "execution_count": 69,
   "metadata": {},
   "outputs": [
    {
     "data": {
      "text/plain": [
       "10+ years    126041\n",
       "2 years       35827\n",
       "< 1 year      31725\n",
       "3 years       31665\n",
       "5 years       26495\n",
       "1 year        25882\n",
       "4 years       23952\n",
       "6 years       20841\n",
       "7 years       20819\n",
       "8 years       19168\n",
       "9 years       15314\n",
       "Name: emp_length, dtype: int64"
      ]
     },
     "execution_count": 69,
     "metadata": {},
     "output_type": "execute_result"
    }
   ],
   "source": [
    "df['emp_length'].value_counts() #Label encoder ?> "
   ]
  },
  {
   "cell_type": "code",
   "execution_count": 70,
   "metadata": {},
   "outputs": [],
   "source": [
    "df['emp_length'] = df['emp_length'].apply(lambda x : '0 year' if x == '< 1 year' else x)"
   ]
  },
  {
   "cell_type": "code",
   "execution_count": 71,
   "metadata": {},
   "outputs": [],
   "source": [
    "df['emp_length'] = df['emp_length'].apply(lambda x : '10 years' if x == '10+ years' else x)"
   ]
  },
  {
   "cell_type": "code",
   "execution_count": 72,
   "metadata": {
    "scrolled": true
   },
   "outputs": [
    {
     "data": {
      "text/plain": [
       "10    126041\n",
       "2      35827\n",
       "0      31725\n",
       "3      31665\n",
       "5      26495\n",
       "1      25882\n",
       "4      23952\n",
       "6      20841\n",
       "7      20819\n",
       "8      19168\n",
       "9      15314\n",
       "Name: emp_length, dtype: int64"
      ]
     },
     "execution_count": 72,
     "metadata": {},
     "output_type": "execute_result"
    }
   ],
   "source": [
    "df['emp_length'] = df['emp_length'].str.split().str[0]\n",
    "#df['emp_length'] = df['emp_length'].astype('int')\n",
    "df['emp_length'].value_counts()"
   ]
  },
  {
   "cell_type": "code",
   "execution_count": 73,
   "metadata": {},
   "outputs": [
    {
     "data": {
      "text/plain": [
       "10    126041\n",
       "2      35827\n",
       "0      31725\n",
       "3      31665\n",
       "5      26495\n",
       "1      25882\n",
       "4      23952\n",
       "6      20841\n",
       "7      20819\n",
       "8      19168\n",
       "9      15314\n",
       "Name: emp_length, dtype: int64"
      ]
     },
     "execution_count": 73,
     "metadata": {},
     "output_type": "execute_result"
    }
   ],
   "source": [
    "df['emp_length'].value_counts()"
   ]
  },
  {
   "cell_type": "code",
   "execution_count": 74,
   "metadata": {
    "scrolled": true
   },
   "outputs": [
    {
     "data": {
      "text/plain": [
       "MORTGAGE    198348\n",
       "RENT        159790\n",
       "OWN          37746\n",
       "OTHER          112\n",
       "NONE            31\n",
       "ANY              3\n",
       "Name: home_ownership, dtype: int64"
      ]
     },
     "execution_count": 74,
     "metadata": {},
     "output_type": "execute_result"
    }
   ],
   "source": [
    "df['home_ownership'].value_counts() #Change any and other to None and make get dummies"
   ]
  },
  {
   "cell_type": "code",
   "execution_count": 75,
   "metadata": {},
   "outputs": [
    {
     "data": {
      "text/plain": [
       "Verified           139563\n",
       "Source Verified    131385\n",
       "Not Verified       125082\n",
       "Name: verification_status, dtype: int64"
      ]
     },
     "execution_count": 75,
     "metadata": {},
     "output_type": "execute_result"
    }
   ],
   "source": [
    "df['verification_status'].value_counts() #get dummies drop first"
   ]
  },
  {
   "cell_type": "code",
   "execution_count": 76,
   "metadata": {},
   "outputs": [],
   "source": [
    "#issue_d variable would be data leakage, you wouldn't know beforehand whether or not a l\n",
    "#loan would be issued when using your model, so in theory you wouldn't have an issue_date, you can drop this feature.\n",
    "df.drop(\"issue_d\",axis = 1, inplace= True)"
   ]
  },
  {
   "cell_type": "code",
   "execution_count": 83,
   "metadata": {},
   "outputs": [
    {
     "data": {
      "text/plain": [
       "debt_consolidation    234507\n",
       "credit_card            83019\n",
       "home_improvement       24030\n",
       "other                  21185\n",
       "major_purchase          8790\n",
       "small_business          5701\n",
       "car                     4697\n",
       "medical                 4196\n",
       "moving                  2854\n",
       "vacation                2452\n",
       "house                   2201\n",
       "wedding                 1812\n",
       "renewable_energy         329\n",
       "educational              257\n",
       "Name: purpose, dtype: int64"
      ]
     },
     "execution_count": 83,
     "metadata": {},
     "output_type": "execute_result"
    }
   ],
   "source": [
    "df['purpose'].value_counts(dropna=False) #get dummies drop first"
   ]
  },
  {
   "cell_type": "code",
   "execution_count": 84,
   "metadata": {},
   "outputs": [
    {
     "data": {
      "text/plain": [
       "Debt consolidation                152472\n",
       "Credit card refinancing            51487\n",
       "Home improvement                   15264\n",
       "Other                              12930\n",
       "Debt Consolidation                 11608\n",
       "                                   ...  \n",
       "First Loan Payoff                      1\n",
       "Final Debt Restructuring               1\n",
       "Non-Warrantable Condo Purchase         1\n",
       "kevins loan                            1\n",
       "Debt-consolidation-2013                1\n",
       "Name: title, Length: 48818, dtype: int64"
      ]
     },
     "execution_count": 84,
     "metadata": {},
     "output_type": "execute_result"
    }
   ],
   "source": [
    "df['title'].value_counts(dropna=False) # decide later"
   ]
  },
  {
   "cell_type": "code",
   "execution_count": 85,
   "metadata": {},
   "outputs": [
    {
     "data": {
      "text/plain": [
       "48817"
      ]
     },
     "execution_count": 85,
     "metadata": {},
     "output_type": "execute_result"
    }
   ],
   "source": [
    "df['title'].nunique() # decide later"
   ]
  },
  {
   "cell_type": "code",
   "execution_count": 86,
   "metadata": {},
   "outputs": [
    {
     "data": {
      "text/plain": [
       "Oct-2000    3017\n",
       "Aug-2000    2935\n",
       "Oct-2001    2896\n",
       "Aug-2001    2884\n",
       "Nov-2000    2736\n",
       "            ... \n",
       "Jul-1955       1\n",
       "Jun-1959       1\n",
       "Jun-1955       1\n",
       "Aug-1951       1\n",
       "Feb-1957       1\n",
       "Name: earliest_cr_line, Length: 684, dtype: int64"
      ]
     },
     "execution_count": 86,
     "metadata": {},
     "output_type": "execute_result"
    }
   ],
   "source": [
    "df['earliest_cr_line'].value_counts(dropna=False) #i will keep only year."
   ]
  },
  {
   "cell_type": "code",
   "execution_count": 87,
   "metadata": {},
   "outputs": [],
   "source": [
    "df['earliest_cr_line'] = df['earliest_cr_line'].str.split(\"-\").str[1].astype('int')"
   ]
  },
  {
   "cell_type": "code",
   "execution_count": 88,
   "metadata": {},
   "outputs": [
    {
     "data": {
      "text/plain": [
       "2000    29366\n",
       "2001    29083\n",
       "1999    26491\n",
       "2002    25901\n",
       "2003    23657\n",
       "        ...  \n",
       "1951        3\n",
       "1950        3\n",
       "1953        2\n",
       "1948        1\n",
       "1944        1\n",
       "Name: earliest_cr_line, Length: 65, dtype: int64"
      ]
     },
     "execution_count": 88,
     "metadata": {},
     "output_type": "execute_result"
    }
   ],
   "source": [
    "df['earliest_cr_line'].value_counts(dropna=False) #i will keep only year."
   ]
  },
  {
   "cell_type": "code",
   "execution_count": 98,
   "metadata": {},
   "outputs": [
    {
     "name": "stderr",
     "output_type": "stream",
     "text": [
      "/Users/me/opt/anaconda3/lib/python3.8/site-packages/seaborn/_decorators.py:36: FutureWarning: Pass the following variable as a keyword arg: x. From version 0.12, the only valid positional argument will be `data`, and passing other arguments without an explicit keyword will result in an error or misinterpretation.\n",
      "  warnings.warn(\n"
     ]
    },
    {
     "data": {
      "text/plain": [
       "<AxesSubplot:xlabel='earliest_cr_line', ylabel='count'>"
      ]
     },
     "execution_count": 98,
     "metadata": {},
     "output_type": "execute_result"
    },
    {
     "data": {
      "image/png": "[encoded data removed]",
      "text/plain": [
       "<Figure size 1440x360 with 1 Axes>"
      ]
     },
     "metadata": {
      "needs_background": "light"
     },
     "output_type": "display_data"
    }
   ],
   "source": [
    "plt.figure(figsize=(20,5))\n",
    "sns.countplot(df['earliest_cr_line']) # may be i can group later on."
   ]
  },
  {
   "cell_type": "code",
   "execution_count": 90,
   "metadata": {},
   "outputs": [
    {
     "data": {
      "text/plain": [
       "f    238066\n",
       "w    157964\n",
       "Name: initial_list_status, dtype: int64"
      ]
     },
     "execution_count": 90,
     "metadata": {},
     "output_type": "execute_result"
    }
   ],
   "source": [
    "df['initial_list_status'].value_counts(dropna=False) # get dummies, drop first"
   ]
  },
  {
   "cell_type": "code",
   "execution_count": 91,
   "metadata": {},
   "outputs": [
    {
     "data": {
      "text/plain": [
       "0.0     139777\n",
       "1.0      60416\n",
       "2.0      49948\n",
       "3.0      38049\n",
       "NaN      37795\n",
       "4.0      27887\n",
       "5.0      18194\n",
       "6.0      11069\n",
       "7.0       6052\n",
       "8.0       3121\n",
       "9.0       1656\n",
       "10.0       865\n",
       "11.0       479\n",
       "12.0       264\n",
       "13.0       146\n",
       "14.0       107\n",
       "15.0        61\n",
       "16.0        37\n",
       "17.0        22\n",
       "18.0        18\n",
       "19.0        15\n",
       "20.0        13\n",
       "24.0        10\n",
       "22.0         7\n",
       "21.0         4\n",
       "25.0         4\n",
       "27.0         3\n",
       "23.0         2\n",
       "32.0         2\n",
       "26.0         2\n",
       "31.0         2\n",
       "30.0         1\n",
       "28.0         1\n",
       "34.0         1\n",
       "Name: mort_acc, dtype: int64"
      ]
     },
     "execution_count": 91,
     "metadata": {},
     "output_type": "execute_result"
    }
   ],
   "source": [
    "df['mort_acc'].value_counts(dropna=False) # get dummies, drop first"
   ]
  },
  {
   "cell_type": "code",
   "execution_count": 93,
   "metadata": {
    "scrolled": true
   },
   "outputs": [
    {
     "data": {
      "text/plain": [
       "INDIVIDUAL    395319\n",
       "JOINT            425\n",
       "DIRECT_PAY       286\n",
       "Name: application_type, dtype: int64"
      ]
     },
     "execution_count": 93,
     "metadata": {},
     "output_type": "execute_result"
    }
   ],
   "source": [
    "df['application_type'].value_counts(dropna=False) # get dummies"
   ]
  },
  {
   "cell_type": "code",
   "execution_count": 94,
   "metadata": {},
   "outputs": [
    {
     "data": {
      "text/plain": [
       "0.0    350380\n",
       "1.0     42790\n",
       "2.0      1847\n",
       "NaN       535\n",
       "3.0       351\n",
       "4.0        82\n",
       "5.0        32\n",
       "6.0         7\n",
       "7.0         4\n",
       "8.0         2\n",
       "Name: pub_rec_bankruptcies, dtype: int64"
      ]
     },
     "execution_count": 94,
     "metadata": {},
     "output_type": "execute_result"
    }
   ],
   "source": [
    "df['pub_rec_bankruptcies'].value_counts(dropna=False) # get dummies, drop first"
   ]
  },
  {
   "cell_type": "code",
   "execution_count": 95,
   "metadata": {},
   "outputs": [
    {
     "data": {
      "text/plain": [
       "USS Johnson\\nFPO AE 48052                           8\n",
       "USNS Johnson\\nFPO AE 05113                          8\n",
       "USCGC Smith\\nFPO AE 70466                           8\n",
       "USS Smith\\nFPO AP 70466                             8\n",
       "USNS Johnson\\nFPO AP 48052                          7\n",
       "                                                   ..\n",
       "81801 Hayes Dam Suite 242\\nRyanland, HI 30723       1\n",
       "59769 Gomez Coves\\nWendyshire, CA 86630             1\n",
       "63374 Ortega Squares\\nDeanstad, TN 70466            1\n",
       "6801 Barry Hills Suite 514\\nConnorberg, TX 48052    1\n",
       "33304 Powell Ramp\\nJacobville, ID 29597             1\n",
       "Name: address, Length: 393700, dtype: int64"
      ]
     },
     "execution_count": 95,
     "metadata": {},
     "output_type": "execute_result"
    }
   ],
   "source": [
    "df['address'].value_counts(dropna=False) # Work on this"
   ]
  },
  {
   "cell_type": "code",
   "execution_count": 96,
   "metadata": {},
   "outputs": [
    {
     "name": "stdout",
     "output_type": "stream",
     "text": [
      "<class 'pandas.core.frame.DataFrame'>\n",
      "RangeIndex: 396030 entries, 0 to 396029\n",
      "Data columns (total 26 columns):\n",
      " #   Column                Non-Null Count   Dtype  \n",
      "---  ------                --------------   -----  \n",
      " 0   loan_amnt             396030 non-null  float64\n",
      " 1   term                  396030 non-null  int64  \n",
      " 2   int_rate              396030 non-null  float64\n",
      " 3   installment           396030 non-null  float64\n",
      " 4   grade                 396030 non-null  object \n",
      " 5   sub_grade             396030 non-null  object \n",
      " 6   emp_title             373103 non-null  object \n",
      " 7   emp_length            377729 non-null  object \n",
      " 8   home_ownership        396030 non-null  object \n",
      " 9   annual_inc            396030 non-null  float64\n",
      " 10  verification_status   396030 non-null  object \n",
      " 11  loan_status           396030 non-null  int64  \n",
      " 12  purpose               396030 non-null  object \n",
      " 13  title                 394275 non-null  object \n",
      " 14  dti                   396030 non-null  float64\n",
      " 15  earliest_cr_line      396030 non-null  int64  \n",
      " 16  open_acc              396030 non-null  float64\n",
      " 17  pub_rec               396030 non-null  float64\n",
      " 18  revol_bal             396030 non-null  float64\n",
      " 19  revol_util            395754 non-null  float64\n",
      " 20  total_acc             396030 non-null  float64\n",
      " 21  initial_list_status   396030 non-null  object \n",
      " 22  application_type      396030 non-null  object \n",
      " 23  mort_acc              358235 non-null  float64\n",
      " 24  pub_rec_bankruptcies  395495 non-null  float64\n",
      " 25  address               396030 non-null  object \n",
      "dtypes: float64(12), int64(3), object(11)\n",
      "memory usage: 78.6+ MB\n"
     ]
    }
   ],
   "source": [
    "df.info()"
   ]
  },
  {
   "cell_type": "code",
   "execution_count": 97,
   "metadata": {},
   "outputs": [
    {
     "name": "stdout",
     "output_type": "stream",
     "text": [
      "loan_amnt\n",
      "--------------------\n",
      "10000.0    27668\n",
      "12000.0    21366\n",
      "15000.0    19903\n",
      "20000.0    18969\n",
      "35000.0    14576\n",
      "           ...  \n",
      "37450.0        1\n",
      "36775.0        1\n",
      "725.0          1\n",
      "36225.0        1\n",
      "35475.0        1\n",
      "Name: loan_amnt, Length: 1397, dtype: int64\n",
      "\n",
      "\n",
      "\n",
      "term\n",
      "--------------------\n",
      "36    302005\n",
      "60     94025\n",
      "Name: term, dtype: int64\n",
      "\n",
      "\n",
      "\n",
      "int_rate\n",
      "--------------------\n",
      "10.99    12411\n",
      "12.99     9632\n",
      "15.61     9350\n",
      "11.99     8582\n",
      "8.90      8019\n",
      "         ...  \n",
      "14.28        1\n",
      "18.72        1\n",
      "30.84        1\n",
      "24.40        1\n",
      "24.59        1\n",
      "Name: int_rate, Length: 566, dtype: int64\n",
      "\n",
      "\n",
      "\n",
      "installment\n",
      "--------------------\n",
      "327.34    968\n",
      "332.10    791\n",
      "491.01    736\n",
      "336.90    686\n",
      "392.81    683\n",
      "         ... \n",
      "785.23      1\n",
      "160.97      1\n",
      "160.03      1\n",
      "599.45      1\n",
      "256.00      1\n",
      "Name: installment, Length: 55706, dtype: int64\n",
      "\n",
      "\n",
      "\n",
      "grade\n",
      "--------------------\n",
      "B    116018\n",
      "C    105987\n",
      "A     64187\n",
      "D     63524\n",
      "E     31488\n",
      "F     11772\n",
      "G      3054\n",
      "Name: grade, dtype: int64\n",
      "\n",
      "\n",
      "\n",
      "sub_grade\n",
      "--------------------\n",
      "B3    26655\n",
      "B4    25601\n",
      "C1    23662\n",
      "C2    22580\n",
      "B2    22495\n",
      "B5    22085\n",
      "C3    21221\n",
      "C4    20280\n",
      "B1    19182\n",
      "A5    18526\n",
      "C5    18244\n",
      "D1    15993\n",
      "A4    15789\n",
      "D2    13951\n",
      "D3    12223\n",
      "D4    11657\n",
      "A3    10576\n",
      "A1     9729\n",
      "D5     9700\n",
      "A2     9567\n",
      "E1     7917\n",
      "E2     7431\n",
      "E3     6207\n",
      "E4     5361\n",
      "E5     4572\n",
      "F1     3536\n",
      "F2     2766\n",
      "F3     2286\n",
      "F4     1787\n",
      "F5     1397\n",
      "G1     1058\n",
      "G2      754\n",
      "G3      552\n",
      "G4      374\n",
      "G5      316\n",
      "Name: sub_grade, dtype: int64\n",
      "\n",
      "\n",
      "\n",
      "emp_title\n",
      "--------------------\n",
      "NaN                              22927\n",
      "Teacher                           4389\n",
      "Manager                           4250\n",
      "Registered Nurse                  1856\n",
      "RN                                1846\n",
      "                                 ...  \n",
      "Redbox Automated Retail              1\n",
      "Customer Service/Accounting          1\n",
      "Sheet metal worker(foreman)          1\n",
      "Safe Deposit Drill Specialist        1\n",
      "Picosecond Pulse Labratories         1\n",
      "Name: emp_title, Length: 173106, dtype: int64\n",
      "\n",
      "\n",
      "\n",
      "emp_length\n",
      "--------------------\n",
      "10     126041\n",
      "2       35827\n",
      "0       31725\n",
      "3       31665\n",
      "5       26495\n",
      "1       25882\n",
      "4       23952\n",
      "6       20841\n",
      "7       20819\n",
      "8       19168\n",
      "NaN     18301\n",
      "9       15314\n",
      "Name: emp_length, dtype: int64\n",
      "\n",
      "\n",
      "\n",
      "home_ownership\n",
      "--------------------\n",
      "MORTGAGE    198348\n",
      "RENT        159790\n",
      "OWN          37746\n",
      "OTHER          112\n",
      "NONE            31\n",
      "ANY              3\n",
      "Name: home_ownership, dtype: int64\n",
      "\n",
      "\n",
      "\n",
      "annual_inc\n",
      "--------------------\n",
      "60000.00     15313\n",
      "50000.00     13303\n",
      "65000.00     11333\n",
      "70000.00     10674\n",
      "40000.00     10629\n",
      "             ...  \n",
      "43504.32         1\n",
      "102555.00        1\n",
      "35775.00         1\n",
      "51282.00         1\n",
      "0.00             1\n",
      "Name: annual_inc, Length: 27197, dtype: int64\n",
      "\n",
      "\n",
      "\n",
      "verification_status\n",
      "--------------------\n",
      "Verified           139563\n",
      "Source Verified    131385\n",
      "Not Verified       125082\n",
      "Name: verification_status, dtype: int64\n",
      "\n",
      "\n",
      "\n",
      "loan_status\n",
      "--------------------\n",
      "1    318357\n",
      "0     77673\n",
      "Name: loan_status, dtype: int64\n",
      "\n",
      "\n",
      "\n",
      "purpose\n",
      "--------------------\n",
      "debt_consolidation    234507\n",
      "credit_card            83019\n",
      "home_improvement       24030\n",
      "other                  21185\n",
      "major_purchase          8790\n",
      "small_business          5701\n",
      "car                     4697\n",
      "medical                 4196\n",
      "moving                  2854\n",
      "vacation                2452\n",
      "house                   2201\n",
      "wedding                 1812\n",
      "renewable_energy         329\n",
      "educational              257\n",
      "Name: purpose, dtype: int64\n",
      "\n",
      "\n",
      "\n",
      "title\n",
      "--------------------\n",
      "Debt consolidation                152472\n",
      "Credit card refinancing            51487\n",
      "Home improvement                   15264\n",
      "Other                              12930\n",
      "Debt Consolidation                 11608\n",
      "                                   ...  \n",
      "First Loan Payoff                      1\n",
      "Final Debt Restructuring               1\n",
      "Non-Warrantable Condo Purchase         1\n",
      "kevins loan                            1\n",
      "Debt-consolidation-2013                1\n",
      "Name: title, Length: 48818, dtype: int64\n",
      "\n",
      "\n",
      "\n",
      "dti\n",
      "--------------------\n",
      "0.00     313\n",
      "14.40    310\n",
      "19.20    302\n",
      "16.80    301\n",
      "18.00    300\n",
      "        ... \n",
      "46.51      1\n",
      "43.24      1\n",
      "46.77      1\n",
      "92.13      1\n",
      "40.14      1\n",
      "Name: dti, Length: 4262, dtype: int64\n",
      "\n",
      "\n",
      "\n",
      "earliest_cr_line\n",
      "--------------------\n",
      "2000    29366\n",
      "2001    29083\n",
      "1999    26491\n",
      "2002    25901\n",
      "2003    23657\n",
      "        ...  \n",
      "1951        3\n",
      "1950        3\n",
      "1953        2\n",
      "1948        1\n",
      "1944        1\n",
      "Name: earliest_cr_line, Length: 65, dtype: int64\n",
      "\n",
      "\n",
      "\n",
      "open_acc\n",
      "--------------------\n",
      "9.0     36779\n",
      "10.0    35441\n",
      "8.0     35137\n",
      "11.0    32695\n",
      "7.0     31328\n",
      "        ...  \n",
      "76.0        2\n",
      "56.0        2\n",
      "58.0        1\n",
      "90.0        1\n",
      "57.0        1\n",
      "Name: open_acc, Length: 61, dtype: int64\n",
      "\n",
      "\n",
      "\n",
      "pub_rec\n",
      "--------------------\n",
      "0.0     338272\n",
      "1.0      49739\n",
      "2.0       5476\n",
      "3.0       1521\n",
      "4.0        527\n",
      "5.0        237\n",
      "6.0        122\n",
      "7.0         56\n",
      "8.0         34\n",
      "9.0         12\n",
      "10.0        11\n",
      "11.0         8\n",
      "13.0         4\n",
      "12.0         4\n",
      "19.0         2\n",
      "86.0         1\n",
      "40.0         1\n",
      "17.0         1\n",
      "15.0         1\n",
      "24.0         1\n",
      "Name: pub_rec, dtype: int64\n",
      "\n",
      "\n",
      "\n",
      "revol_bal\n",
      "--------------------\n",
      "0.0        2128\n",
      "5655.0       41\n",
      "6095.0       38\n",
      "7792.0       38\n",
      "3953.0       37\n",
      "           ... \n",
      "80629.0       1\n",
      "52950.0       1\n",
      "82452.0       1\n",
      "44876.0       1\n",
      "47683.0       1\n",
      "Name: revol_bal, Length: 55622, dtype: int64\n",
      "\n",
      "\n",
      "\n",
      "revol_util\n",
      "--------------------\n",
      "0.00      2213\n",
      "53.00      752\n",
      "60.00      739\n",
      "61.00      734\n",
      "55.00      730\n",
      "          ... \n",
      "4.85         1\n",
      "11.62        1\n",
      "152.50       1\n",
      "70.26        1\n",
      "118.20       1\n",
      "Name: revol_util, Length: 1227, dtype: int64\n",
      "\n",
      "\n",
      "\n",
      "total_acc\n",
      "--------------------\n",
      "21.0     14280\n",
      "22.0     14260\n",
      "20.0     14228\n",
      "23.0     13923\n",
      "24.0     13878\n",
      "         ...  \n",
      "100.0        1\n",
      "115.0        1\n",
      "118.0        1\n",
      "108.0        1\n",
      "104.0        1\n",
      "Name: total_acc, Length: 118, dtype: int64\n",
      "\n",
      "\n",
      "\n",
      "initial_list_status\n",
      "--------------------\n",
      "f    238066\n",
      "w    157964\n",
      "Name: initial_list_status, dtype: int64\n",
      "\n",
      "\n",
      "\n",
      "application_type\n",
      "--------------------\n",
      "INDIVIDUAL    395319\n",
      "JOINT            425\n",
      "DIRECT_PAY       286\n",
      "Name: application_type, dtype: int64\n",
      "\n",
      "\n",
      "\n",
      "mort_acc\n",
      "--------------------\n",
      "0.0     139777\n",
      "1.0      60416\n",
      "2.0      49948\n",
      "3.0      38049\n",
      "NaN      37795\n",
      "4.0      27887\n",
      "5.0      18194\n",
      "6.0      11069\n",
      "7.0       6052\n",
      "8.0       3121\n",
      "9.0       1656\n",
      "10.0       865\n",
      "11.0       479\n",
      "12.0       264\n",
      "13.0       146\n",
      "14.0       107\n",
      "15.0        61\n",
      "16.0        37\n",
      "17.0        22\n",
      "18.0        18\n",
      "19.0        15\n",
      "20.0        13\n",
      "24.0        10\n",
      "22.0         7\n",
      "21.0         4\n",
      "25.0         4\n",
      "27.0         3\n",
      "23.0         2\n",
      "32.0         2\n",
      "26.0         2\n",
      "31.0         2\n",
      "30.0         1\n",
      "28.0         1\n",
      "34.0         1\n",
      "Name: mort_acc, dtype: int64\n",
      "\n",
      "\n",
      "\n",
      "pub_rec_bankruptcies\n",
      "--------------------\n",
      "0.0    350380\n",
      "1.0     42790\n",
      "2.0      1847\n",
      "NaN       535\n",
      "3.0       351\n",
      "4.0        82\n",
      "5.0        32\n",
      "6.0         7\n",
      "7.0         4\n",
      "8.0         2\n",
      "Name: pub_rec_bankruptcies, dtype: int64\n",
      "\n",
      "\n",
      "\n",
      "address\n",
      "--------------------\n",
      "USS Johnson\\nFPO AE 48052                           8\n",
      "USNS Johnson\\nFPO AE 05113                          8\n",
      "USCGC Smith\\nFPO AE 70466                           8\n",
      "USS Smith\\nFPO AP 70466                             8\n",
      "USNS Johnson\\nFPO AP 48052                          7\n",
      "                                                   ..\n",
      "81801 Hayes Dam Suite 242\\nRyanland, HI 30723       1\n",
      "59769 Gomez Coves\\nWendyshire, CA 86630             1\n",
      "63374 Ortega Squares\\nDeanstad, TN 70466            1\n",
      "6801 Barry Hills Suite 514\\nConnorberg, TX 48052    1\n",
      "33304 Powell Ramp\\nJacobville, ID 29597             1\n",
      "Name: address, Length: 393700, dtype: int64\n",
      "\n",
      "\n",
      "\n"
     ]
    }
   ],
   "source": [
    "for i in df.columns:\n",
    "    print(i,'\\n','-'*20+'\\n',df[i].value_counts(dropna=False),'\\n'*3,sep=\"\" )"
   ]
  },
  {
   "cell_type": "code",
   "execution_count": 107,
   "metadata": {
    "scrolled": true
   },
   "outputs": [
    {
     "data": {
      "text/plain": [
       "70466    56985\n",
       "30723    56546\n",
       "22690    56527\n",
       "48052    55917\n",
       "00813    45824\n",
       "29597    45471\n",
       "05113    45402\n",
       "11650    11226\n",
       "93700    11151\n",
       "86630    10981\n",
       "Name: address, dtype: int64"
      ]
     },
     "execution_count": 107,
     "metadata": {},
     "output_type": "execute_result"
    }
   ],
   "source": [
    "df['address'].str[-5:].value_counts()"
   ]
  },
  {
   "cell_type": "code",
   "execution_count": 110,
   "metadata": {},
   "outputs": [
    {
     "data": {
      "text/plain": [
       "70466    56985\n",
       "30723    56546\n",
       "22690    56527\n",
       "48052    55917\n",
       "00813    45824\n",
       "29597    45471\n",
       "05113    45402\n",
       "11650    11226\n",
       "93700    11151\n",
       "86630    10981\n",
       "Name: zip, dtype: int64"
      ]
     },
     "execution_count": 110,
     "metadata": {},
     "output_type": "execute_result"
    }
   ],
   "source": [
    "df['zip'] = df['address'].str[-5:]\n",
    "df['zip'].value_counts()"
   ]
  },
  {
   "cell_type": "code",
   "execution_count": null,
   "metadata": {
    "scrolled": true
   },
   "outputs": [],
   "source": [
    "df.drop('address', axis=1,inplace=True)"
   ]
  },
  {
   "cell_type": "code",
   "execution_count": 124,
   "metadata": {},
   "outputs": [
    {
     "data": {
      "text/html": [
       "<div>\n",
       "<style scoped>\n",
       "    .dataframe tbody tr th:only-of-type {\n",
       "        vertical-align: middle;\n",
       "    }\n",
       "\n",
       "    .dataframe tbody tr th {\n",
       "        vertical-align: top;\n",
       "    }\n",
       "\n",
       "    .dataframe thead th {\n",
       "        text-align: right;\n",
       "    }\n",
       "</style>\n",
       "<table border=\"1\" class=\"dataframe\">\n",
       "  <thead>\n",
       "    <tr style=\"text-align: right;\">\n",
       "      <th></th>\n",
       "      <th>loan_amnt</th>\n",
       "      <th>term</th>\n",
       "      <th>int_rate</th>\n",
       "      <th>installment</th>\n",
       "      <th>sub_grade</th>\n",
       "      <th>emp_title</th>\n",
       "      <th>emp_length</th>\n",
       "      <th>home_ownership</th>\n",
       "      <th>annual_inc</th>\n",
       "      <th>verification_status</th>\n",
       "      <th>loan_status</th>\n",
       "      <th>purpose</th>\n",
       "      <th>title</th>\n",
       "      <th>dti</th>\n",
       "      <th>earliest_cr_line</th>\n",
       "      <th>open_acc</th>\n",
       "      <th>pub_rec</th>\n",
       "      <th>revol_bal</th>\n",
       "      <th>revol_util</th>\n",
       "      <th>total_acc</th>\n",
       "      <th>initial_list_status</th>\n",
       "      <th>application_type</th>\n",
       "      <th>mort_acc</th>\n",
       "      <th>pub_rec_bankruptcies</th>\n",
       "      <th>zip</th>\n",
       "    </tr>\n",
       "  </thead>\n",
       "  <tbody>\n",
       "    <tr>\n",
       "      <th>0</th>\n",
       "      <td>10000.0</td>\n",
       "      <td>36</td>\n",
       "      <td>11.44</td>\n",
       "      <td>329.48</td>\n",
       "      <td>B4</td>\n",
       "      <td>Marketing</td>\n",
       "      <td>10</td>\n",
       "      <td>RENT</td>\n",
       "      <td>117000.0</td>\n",
       "      <td>Not Verified</td>\n",
       "      <td>1</td>\n",
       "      <td>vacation</td>\n",
       "      <td>Vacation</td>\n",
       "      <td>26.24</td>\n",
       "      <td>1990</td>\n",
       "      <td>16.0</td>\n",
       "      <td>0.0</td>\n",
       "      <td>36369.0</td>\n",
       "      <td>41.8</td>\n",
       "      <td>25.0</td>\n",
       "      <td>w</td>\n",
       "      <td>INDIVIDUAL</td>\n",
       "      <td>0.0</td>\n",
       "      <td>0.0</td>\n",
       "      <td>22690</td>\n",
       "    </tr>\n",
       "    <tr>\n",
       "      <th>1</th>\n",
       "      <td>8000.0</td>\n",
       "      <td>36</td>\n",
       "      <td>11.99</td>\n",
       "      <td>265.68</td>\n",
       "      <td>B5</td>\n",
       "      <td>Credit analyst</td>\n",
       "      <td>4</td>\n",
       "      <td>MORTGAGE</td>\n",
       "      <td>65000.0</td>\n",
       "      <td>Not Verified</td>\n",
       "      <td>1</td>\n",
       "      <td>debt_consolidation</td>\n",
       "      <td>Debt consolidation</td>\n",
       "      <td>22.05</td>\n",
       "      <td>2004</td>\n",
       "      <td>17.0</td>\n",
       "      <td>0.0</td>\n",
       "      <td>20131.0</td>\n",
       "      <td>53.3</td>\n",
       "      <td>27.0</td>\n",
       "      <td>f</td>\n",
       "      <td>INDIVIDUAL</td>\n",
       "      <td>3.0</td>\n",
       "      <td>0.0</td>\n",
       "      <td>05113</td>\n",
       "    </tr>\n",
       "    <tr>\n",
       "      <th>2</th>\n",
       "      <td>15600.0</td>\n",
       "      <td>36</td>\n",
       "      <td>10.49</td>\n",
       "      <td>506.97</td>\n",
       "      <td>B3</td>\n",
       "      <td>Statistician</td>\n",
       "      <td>0</td>\n",
       "      <td>RENT</td>\n",
       "      <td>43057.0</td>\n",
       "      <td>Source Verified</td>\n",
       "      <td>1</td>\n",
       "      <td>credit_card</td>\n",
       "      <td>Credit card refinancing</td>\n",
       "      <td>12.79</td>\n",
       "      <td>2007</td>\n",
       "      <td>13.0</td>\n",
       "      <td>0.0</td>\n",
       "      <td>11987.0</td>\n",
       "      <td>92.2</td>\n",
       "      <td>26.0</td>\n",
       "      <td>f</td>\n",
       "      <td>INDIVIDUAL</td>\n",
       "      <td>0.0</td>\n",
       "      <td>0.0</td>\n",
       "      <td>05113</td>\n",
       "    </tr>\n",
       "    <tr>\n",
       "      <th>3</th>\n",
       "      <td>7200.0</td>\n",
       "      <td>36</td>\n",
       "      <td>6.49</td>\n",
       "      <td>220.65</td>\n",
       "      <td>A2</td>\n",
       "      <td>Client Advocate</td>\n",
       "      <td>6</td>\n",
       "      <td>RENT</td>\n",
       "      <td>54000.0</td>\n",
       "      <td>Not Verified</td>\n",
       "      <td>1</td>\n",
       "      <td>credit_card</td>\n",
       "      <td>Credit card refinancing</td>\n",
       "      <td>2.60</td>\n",
       "      <td>2006</td>\n",
       "      <td>6.0</td>\n",
       "      <td>0.0</td>\n",
       "      <td>5472.0</td>\n",
       "      <td>21.5</td>\n",
       "      <td>13.0</td>\n",
       "      <td>f</td>\n",
       "      <td>INDIVIDUAL</td>\n",
       "      <td>0.0</td>\n",
       "      <td>0.0</td>\n",
       "      <td>00813</td>\n",
       "    </tr>\n",
       "    <tr>\n",
       "      <th>4</th>\n",
       "      <td>24375.0</td>\n",
       "      <td>60</td>\n",
       "      <td>17.27</td>\n",
       "      <td>609.33</td>\n",
       "      <td>C5</td>\n",
       "      <td>Destiny Management Inc.</td>\n",
       "      <td>9</td>\n",
       "      <td>MORTGAGE</td>\n",
       "      <td>55000.0</td>\n",
       "      <td>Verified</td>\n",
       "      <td>0</td>\n",
       "      <td>credit_card</td>\n",
       "      <td>Credit Card Refinance</td>\n",
       "      <td>33.95</td>\n",
       "      <td>1999</td>\n",
       "      <td>13.0</td>\n",
       "      <td>0.0</td>\n",
       "      <td>24584.0</td>\n",
       "      <td>69.8</td>\n",
       "      <td>43.0</td>\n",
       "      <td>f</td>\n",
       "      <td>INDIVIDUAL</td>\n",
       "      <td>1.0</td>\n",
       "      <td>0.0</td>\n",
       "      <td>11650</td>\n",
       "    </tr>\n",
       "  </tbody>\n",
       "</table>\n",
       "</div>"
      ],
      "text/plain": [
       "   loan_amnt  term  int_rate  installment sub_grade                emp_title  \\\n",
       "0    10000.0    36     11.44       329.48        B4                Marketing   \n",
       "1     8000.0    36     11.99       265.68        B5          Credit analyst    \n",
       "2    15600.0    36     10.49       506.97        B3             Statistician   \n",
       "3     7200.0    36      6.49       220.65        A2          Client Advocate   \n",
       "4    24375.0    60     17.27       609.33        C5  Destiny Management Inc.   \n",
       "\n",
       "  emp_length home_ownership  annual_inc verification_status  loan_status  \\\n",
       "0         10           RENT    117000.0        Not Verified            1   \n",
       "1          4       MORTGAGE     65000.0        Not Verified            1   \n",
       "2          0           RENT     43057.0     Source Verified            1   \n",
       "3          6           RENT     54000.0        Not Verified            1   \n",
       "4          9       MORTGAGE     55000.0            Verified            0   \n",
       "\n",
       "              purpose                    title    dti  earliest_cr_line  \\\n",
       "0            vacation                 Vacation  26.24              1990   \n",
       "1  debt_consolidation       Debt consolidation  22.05              2004   \n",
       "2         credit_card  Credit card refinancing  12.79              2007   \n",
       "3         credit_card  Credit card refinancing   2.60              2006   \n",
       "4         credit_card    Credit Card Refinance  33.95              1999   \n",
       "\n",
       "   open_acc  pub_rec  revol_bal  revol_util  total_acc initial_list_status  \\\n",
       "0      16.0      0.0    36369.0        41.8       25.0                   w   \n",
       "1      17.0      0.0    20131.0        53.3       27.0                   f   \n",
       "2      13.0      0.0    11987.0        92.2       26.0                   f   \n",
       "3       6.0      0.0     5472.0        21.5       13.0                   f   \n",
       "4      13.0      0.0    24584.0        69.8       43.0                   f   \n",
       "\n",
       "  application_type  mort_acc  pub_rec_bankruptcies    zip  \n",
       "0       INDIVIDUAL       0.0                   0.0  22690  \n",
       "1       INDIVIDUAL       3.0                   0.0  05113  \n",
       "2       INDIVIDUAL       0.0                   0.0  05113  \n",
       "3       INDIVIDUAL       0.0                   0.0  00813  \n",
       "4       INDIVIDUAL       1.0                   0.0  11650  "
      ]
     },
     "execution_count": 124,
     "metadata": {},
     "output_type": "execute_result"
    }
   ],
   "source": [
    "df.drop('grade', axis=1,inplace=True) # no need since we have sub_grade\n",
    "df.head()"
   ]
  },
  {
   "cell_type": "code",
   "execution_count": 130,
   "metadata": {},
   "outputs": [
    {
     "data": {
      "text/plain": [
       "<AxesSubplot:xlabel='sub_grade'>"
      ]
     },
     "execution_count": 130,
     "metadata": {},
     "output_type": "execute_result"
    },
    {
     "data": {
      "image/png": "[encoded data removed]",
      "text/plain": [
       "<Figure size 1440x360 with 1 Axes>"
      ]
     },
     "metadata": {
      "needs_background": "light"
     },
     "output_type": "display_data"
    }
   ],
   "source": [
    "plt.figure(figsize=(20,5)) # looks correlated with the loan status, will keep it as it is.\n",
    "df.groupby('sub_grade').mean()['loan_status'].plot(kind='bar')"
   ]
  },
  {
   "cell_type": "code",
   "execution_count": 139,
   "metadata": {
    "scrolled": false
   },
   "outputs": [
    {
     "data": {
      "text/plain": [
       "Debt consolidation           152472\n",
       "Credit card refinancing       51487\n",
       "Home improvement              15264\n",
       "Other                         12930\n",
       "Debt Consolidation            11608\n",
       "Major purchase                 4769\n",
       "Consolidation                  3852\n",
       "debt consolidation             3547\n",
       "Business                       2949\n",
       "Debt Consolidation Loan        2864\n",
       "Medical expenses               2742\n",
       "Car financing                  2139\n",
       "Credit Card Consolidation      1775\n",
       "NaN                            1755\n",
       "Vacation                       1717\n",
       "Name: title, dtype: int64"
      ]
     },
     "execution_count": 139,
     "metadata": {},
     "output_type": "execute_result"
    }
   ],
   "source": [
    "df['title'].value_counts(dropna=False).sort_values(ascending=False)[:15]"
   ]
  },
  {
   "cell_type": "code",
   "execution_count": 134,
   "metadata": {
    "scrolled": true
   },
   "outputs": [
    {
     "data": {
      "text/plain": [
       "debt_consolidation    234507\n",
       "credit_card            83019\n",
       "home_improvement       24030\n",
       "other                  21185\n",
       "major_purchase          8790\n",
       "small_business          5701\n",
       "car                     4697\n",
       "medical                 4196\n",
       "moving                  2854\n",
       "vacation                2452\n",
       "house                   2201\n",
       "wedding                 1812\n",
       "renewable_energy         329\n",
       "educational              257\n",
       "Name: purpose, dtype: int64"
      ]
     },
     "execution_count": 134,
     "metadata": {},
     "output_type": "execute_result"
    }
   ],
   "source": [
    "df['purpose'].value_counts(dropna=False) "
   ]
  },
  {
   "cell_type": "code",
   "execution_count": 146,
   "metadata": {},
   "outputs": [
    {
     "data": {
      "text/plain": [
       "purpose  title          \n",
       "car      Car financing      2129\n",
       "         Car Loan            226\n",
       "         car loan             63\n",
       "         Auto Loan            58\n",
       "         Car                  52\n",
       "         Motorcycle           44\n",
       "         Car loan             41\n",
       "         car                  31\n",
       "         Auto                 27\n",
       "         auto loan            27\n",
       "         Motorcycle Loan      25\n",
       "         motorcycle           23\n",
       "         Personal Loan        18\n",
       "         Car Financing        14\n",
       "         Truck                14\n",
       "Name: title, dtype: int64"
      ]
     },
     "execution_count": 146,
     "metadata": {},
     "output_type": "execute_result"
    }
   ],
   "source": [
    "df.groupby('purpose')['title'].value_counts()[:15]"
   ]
  },
  {
   "cell_type": "code",
   "execution_count": 143,
   "metadata": {},
   "outputs": [
    {
     "data": {
      "text/plain": [
       "purpose             title                  \n",
       "debt_consolidation  Debt consolidation         152106\n",
       "credit_card         Credit card refinancing     51354\n",
       "home_improvement    Home improvement            15182\n",
       "other               Other                       12878\n",
       "debt_consolidation  Debt Consolidation          10837\n",
       "major_purchase      Major purchase               4749\n",
       "debt_consolidation  debt consolidation           3358\n",
       "                    Consolidation                3259\n",
       "small_business      Business                     2915\n",
       "debt_consolidation  Debt Consolidation Loan      2756\n",
       "medical             Medical expenses             2733\n",
       "car                 Car financing                2129\n",
       "moving              Moving and relocation        1688\n",
       "vacation            Vacation                     1679\n",
       "debt_consolidation  consolidation                1322\n",
       "Name: title, dtype: int64"
      ]
     },
     "execution_count": 143,
     "metadata": {},
     "output_type": "execute_result"
    }
   ],
   "source": [
    "df.groupby('purpose')['title'].value_counts().sort_values(ascending=False)[:15]"
   ]
  },
  {
   "cell_type": "code",
   "execution_count": 147,
   "metadata": {},
   "outputs": [],
   "source": [
    "#title and purpose seems very similary, so i will drop title\n",
    "df.drop('title', axis = 1, inplace = True)"
   ]
  },
  {
   "cell_type": "code",
   "execution_count": 148,
   "metadata": {},
   "outputs": [
    {
     "data": {
      "text/html": [
       "<div>\n",
       "<style scoped>\n",
       "    .dataframe tbody tr th:only-of-type {\n",
       "        vertical-align: middle;\n",
       "    }\n",
       "\n",
       "    .dataframe tbody tr th {\n",
       "        vertical-align: top;\n",
       "    }\n",
       "\n",
       "    .dataframe thead th {\n",
       "        text-align: right;\n",
       "    }\n",
       "</style>\n",
       "<table border=\"1\" class=\"dataframe\">\n",
       "  <thead>\n",
       "    <tr style=\"text-align: right;\">\n",
       "      <th></th>\n",
       "      <th>loan_amnt</th>\n",
       "      <th>term</th>\n",
       "      <th>int_rate</th>\n",
       "      <th>installment</th>\n",
       "      <th>sub_grade</th>\n",
       "      <th>emp_title</th>\n",
       "      <th>emp_length</th>\n",
       "      <th>home_ownership</th>\n",
       "      <th>annual_inc</th>\n",
       "      <th>verification_status</th>\n",
       "      <th>loan_status</th>\n",
       "      <th>purpose</th>\n",
       "      <th>dti</th>\n",
       "      <th>earliest_cr_line</th>\n",
       "      <th>open_acc</th>\n",
       "      <th>pub_rec</th>\n",
       "      <th>revol_bal</th>\n",
       "      <th>revol_util</th>\n",
       "      <th>total_acc</th>\n",
       "      <th>initial_list_status</th>\n",
       "      <th>application_type</th>\n",
       "      <th>mort_acc</th>\n",
       "      <th>pub_rec_bankruptcies</th>\n",
       "      <th>zip</th>\n",
       "    </tr>\n",
       "  </thead>\n",
       "  <tbody>\n",
       "    <tr>\n",
       "      <th>0</th>\n",
       "      <td>10000.0</td>\n",
       "      <td>36</td>\n",
       "      <td>11.44</td>\n",
       "      <td>329.48</td>\n",
       "      <td>B4</td>\n",
       "      <td>Marketing</td>\n",
       "      <td>10</td>\n",
       "      <td>RENT</td>\n",
       "      <td>117000.0</td>\n",
       "      <td>Not Verified</td>\n",
       "      <td>1</td>\n",
       "      <td>vacation</td>\n",
       "      <td>26.24</td>\n",
       "      <td>1990</td>\n",
       "      <td>16.0</td>\n",
       "      <td>0.0</td>\n",
       "      <td>36369.0</td>\n",
       "      <td>41.8</td>\n",
       "      <td>25.0</td>\n",
       "      <td>w</td>\n",
       "      <td>INDIVIDUAL</td>\n",
       "      <td>0.0</td>\n",
       "      <td>0.0</td>\n",
       "      <td>22690</td>\n",
       "    </tr>\n",
       "    <tr>\n",
       "      <th>1</th>\n",
       "      <td>8000.0</td>\n",
       "      <td>36</td>\n",
       "      <td>11.99</td>\n",
       "      <td>265.68</td>\n",
       "      <td>B5</td>\n",
       "      <td>Credit analyst</td>\n",
       "      <td>4</td>\n",
       "      <td>MORTGAGE</td>\n",
       "      <td>65000.0</td>\n",
       "      <td>Not Verified</td>\n",
       "      <td>1</td>\n",
       "      <td>debt_consolidation</td>\n",
       "      <td>22.05</td>\n",
       "      <td>2004</td>\n",
       "      <td>17.0</td>\n",
       "      <td>0.0</td>\n",
       "      <td>20131.0</td>\n",
       "      <td>53.3</td>\n",
       "      <td>27.0</td>\n",
       "      <td>f</td>\n",
       "      <td>INDIVIDUAL</td>\n",
       "      <td>3.0</td>\n",
       "      <td>0.0</td>\n",
       "      <td>05113</td>\n",
       "    </tr>\n",
       "    <tr>\n",
       "      <th>2</th>\n",
       "      <td>15600.0</td>\n",
       "      <td>36</td>\n",
       "      <td>10.49</td>\n",
       "      <td>506.97</td>\n",
       "      <td>B3</td>\n",
       "      <td>Statistician</td>\n",
       "      <td>0</td>\n",
       "      <td>RENT</td>\n",
       "      <td>43057.0</td>\n",
       "      <td>Source Verified</td>\n",
       "      <td>1</td>\n",
       "      <td>credit_card</td>\n",
       "      <td>12.79</td>\n",
       "      <td>2007</td>\n",
       "      <td>13.0</td>\n",
       "      <td>0.0</td>\n",
       "      <td>11987.0</td>\n",
       "      <td>92.2</td>\n",
       "      <td>26.0</td>\n",
       "      <td>f</td>\n",
       "      <td>INDIVIDUAL</td>\n",
       "      <td>0.0</td>\n",
       "      <td>0.0</td>\n",
       "      <td>05113</td>\n",
       "    </tr>\n",
       "    <tr>\n",
       "      <th>3</th>\n",
       "      <td>7200.0</td>\n",
       "      <td>36</td>\n",
       "      <td>6.49</td>\n",
       "      <td>220.65</td>\n",
       "      <td>A2</td>\n",
       "      <td>Client Advocate</td>\n",
       "      <td>6</td>\n",
       "      <td>RENT</td>\n",
       "      <td>54000.0</td>\n",
       "      <td>Not Verified</td>\n",
       "      <td>1</td>\n",
       "      <td>credit_card</td>\n",
       "      <td>2.60</td>\n",
       "      <td>2006</td>\n",
       "      <td>6.0</td>\n",
       "      <td>0.0</td>\n",
       "      <td>5472.0</td>\n",
       "      <td>21.5</td>\n",
       "      <td>13.0</td>\n",
       "      <td>f</td>\n",
       "      <td>INDIVIDUAL</td>\n",
       "      <td>0.0</td>\n",
       "      <td>0.0</td>\n",
       "      <td>00813</td>\n",
       "    </tr>\n",
       "    <tr>\n",
       "      <th>4</th>\n",
       "      <td>24375.0</td>\n",
       "      <td>60</td>\n",
       "      <td>17.27</td>\n",
       "      <td>609.33</td>\n",
       "      <td>C5</td>\n",
       "      <td>Destiny Management Inc.</td>\n",
       "      <td>9</td>\n",
       "      <td>MORTGAGE</td>\n",
       "      <td>55000.0</td>\n",
       "      <td>Verified</td>\n",
       "      <td>0</td>\n",
       "      <td>credit_card</td>\n",
       "      <td>33.95</td>\n",
       "      <td>1999</td>\n",
       "      <td>13.0</td>\n",
       "      <td>0.0</td>\n",
       "      <td>24584.0</td>\n",
       "      <td>69.8</td>\n",
       "      <td>43.0</td>\n",
       "      <td>f</td>\n",
       "      <td>INDIVIDUAL</td>\n",
       "      <td>1.0</td>\n",
       "      <td>0.0</td>\n",
       "      <td>11650</td>\n",
       "    </tr>\n",
       "  </tbody>\n",
       "</table>\n",
       "</div>"
      ],
      "text/plain": [
       "   loan_amnt  term  int_rate  installment sub_grade                emp_title  \\\n",
       "0    10000.0    36     11.44       329.48        B4                Marketing   \n",
       "1     8000.0    36     11.99       265.68        B5          Credit analyst    \n",
       "2    15600.0    36     10.49       506.97        B3             Statistician   \n",
       "3     7200.0    36      6.49       220.65        A2          Client Advocate   \n",
       "4    24375.0    60     17.27       609.33        C5  Destiny Management Inc.   \n",
       "\n",
       "  emp_length home_ownership  annual_inc verification_status  loan_status  \\\n",
       "0         10           RENT    117000.0        Not Verified            1   \n",
       "1          4       MORTGAGE     65000.0        Not Verified            1   \n",
       "2          0           RENT     43057.0     Source Verified            1   \n",
       "3          6           RENT     54000.0        Not Verified            1   \n",
       "4          9       MORTGAGE     55000.0            Verified            0   \n",
       "\n",
       "              purpose    dti  earliest_cr_line  open_acc  pub_rec  revol_bal  \\\n",
       "0            vacation  26.24              1990      16.0      0.0    36369.0   \n",
       "1  debt_consolidation  22.05              2004      17.0      0.0    20131.0   \n",
       "2         credit_card  12.79              2007      13.0      0.0    11987.0   \n",
       "3         credit_card   2.60              2006       6.0      0.0     5472.0   \n",
       "4         credit_card  33.95              1999      13.0      0.0    24584.0   \n",
       "\n",
       "   revol_util  total_acc initial_list_status application_type  mort_acc  \\\n",
       "0        41.8       25.0                   w       INDIVIDUAL       0.0   \n",
       "1        53.3       27.0                   f       INDIVIDUAL       3.0   \n",
       "2        92.2       26.0                   f       INDIVIDUAL       0.0   \n",
       "3        21.5       13.0                   f       INDIVIDUAL       0.0   \n",
       "4        69.8       43.0                   f       INDIVIDUAL       1.0   \n",
       "\n",
       "   pub_rec_bankruptcies    zip  \n",
       "0                   0.0  22690  \n",
       "1                   0.0  05113  \n",
       "2                   0.0  05113  \n",
       "3                   0.0  00813  \n",
       "4                   0.0  11650  "
      ]
     },
     "execution_count": 148,
     "metadata": {},
     "output_type": "execute_result"
    }
   ],
   "source": [
    "df.head()"
   ]
  },
  {
   "cell_type": "code",
   "execution_count": 154,
   "metadata": {},
   "outputs": [
    {
     "data": {
      "text/plain": [
       "Teacher                     4389\n",
       "Manager                     4250\n",
       "Registered Nurse            1856\n",
       "RN                          1846\n",
       "Supervisor                  1830\n",
       "Sales                       1638\n",
       "Project Manager             1505\n",
       "Owner                       1410\n",
       "Driver                      1339\n",
       "Office Manager              1218\n",
       "manager                     1145\n",
       "Director                    1089\n",
       "General Manager             1074\n",
       "Engineer                     995\n",
       "teacher                      962\n",
       "driver                       882\n",
       "Vice President               857\n",
       "Operations Manager           763\n",
       "Administrative Assistant     756\n",
       "Accountant                   748\n",
       "President                    742\n",
       "owner                        697\n",
       "Account Manager              692\n",
       "Police Officer               686\n",
       "supervisor                   673\n",
       "Attorney                     667\n",
       "Sales Manager                665\n",
       "sales                        645\n",
       "Executive Assistant          642\n",
       "Analyst                      623\n",
       "Store Manager                596\n",
       "Technician                   547\n",
       "Software Engineer            542\n",
       "truck driver                 517\n",
       "Nurse                        502\n",
       "Name: emp_title, dtype: int64"
      ]
     },
     "execution_count": 154,
     "metadata": {},
     "output_type": "execute_result"
    }
   ],
   "source": [
    "df['emp_title'].value_counts()[:35]"
   ]
  },
  {
   "cell_type": "code",
   "execution_count": 151,
   "metadata": {},
   "outputs": [
    {
     "data": {
      "text/plain": [
       "173105"
      ]
     },
     "execution_count": 151,
     "metadata": {},
     "output_type": "execute_result"
    }
   ],
   "source": [
    "df['emp_title'].nunique() # i will drop this since there is already alternative data."
   ]
  },
  {
   "cell_type": "code",
   "execution_count": 158,
   "metadata": {},
   "outputs": [],
   "source": [
    "df.drop('emp_title', axis = 1, inplace = True)"
   ]
  },
  {
   "cell_type": "code",
   "execution_count": 161,
   "metadata": {},
   "outputs": [
    {
     "data": {
      "text/plain": [
       "MORTGAGE    198348\n",
       "RENT        159790\n",
       "OWN          37746\n",
       "OTHER          112\n",
       "NONE            31\n",
       "ANY              3\n",
       "Name: home_ownership, dtype: int64"
      ]
     },
     "execution_count": 161,
     "metadata": {},
     "output_type": "execute_result"
    }
   ],
   "source": [
    "df['home_ownership'].value_counts()"
   ]
  },
  {
   "cell_type": "code",
   "execution_count": 165,
   "metadata": {},
   "outputs": [
    {
     "data": {
      "text/plain": [
       "MORTGAGE    198348\n",
       "RENT        159790\n",
       "OWN          37746\n",
       "OTHER          146\n",
       "Name: home_ownership, dtype: int64"
      ]
     },
     "execution_count": 165,
     "metadata": {},
     "output_type": "execute_result"
    }
   ],
   "source": [
    "df['home_ownership'] = df['home_ownership'].apply(lambda x: 'OTHER' if x in ['NONE', 'ANY'] else x )\n",
    "df['home_ownership'].value_counts()"
   ]
  },
  {
   "cell_type": "code",
   "execution_count": 166,
   "metadata": {},
   "outputs": [
    {
     "data": {
      "text/html": [
       "<div>\n",
       "<style scoped>\n",
       "    .dataframe tbody tr th:only-of-type {\n",
       "        vertical-align: middle;\n",
       "    }\n",
       "\n",
       "    .dataframe tbody tr th {\n",
       "        vertical-align: top;\n",
       "    }\n",
       "\n",
       "    .dataframe thead th {\n",
       "        text-align: right;\n",
       "    }\n",
       "</style>\n",
       "<table border=\"1\" class=\"dataframe\">\n",
       "  <thead>\n",
       "    <tr style=\"text-align: right;\">\n",
       "      <th></th>\n",
       "      <th>loan_amnt</th>\n",
       "      <th>term</th>\n",
       "      <th>int_rate</th>\n",
       "      <th>installment</th>\n",
       "      <th>sub_grade</th>\n",
       "      <th>emp_length</th>\n",
       "      <th>home_ownership</th>\n",
       "      <th>annual_inc</th>\n",
       "      <th>verification_status</th>\n",
       "      <th>loan_status</th>\n",
       "      <th>purpose</th>\n",
       "      <th>dti</th>\n",
       "      <th>earliest_cr_line</th>\n",
       "      <th>open_acc</th>\n",
       "      <th>pub_rec</th>\n",
       "      <th>revol_bal</th>\n",
       "      <th>revol_util</th>\n",
       "      <th>total_acc</th>\n",
       "      <th>initial_list_status</th>\n",
       "      <th>application_type</th>\n",
       "      <th>mort_acc</th>\n",
       "      <th>pub_rec_bankruptcies</th>\n",
       "      <th>zip</th>\n",
       "    </tr>\n",
       "  </thead>\n",
       "  <tbody>\n",
       "    <tr>\n",
       "      <th>0</th>\n",
       "      <td>10000.0</td>\n",
       "      <td>36</td>\n",
       "      <td>11.44</td>\n",
       "      <td>329.48</td>\n",
       "      <td>B4</td>\n",
       "      <td>10</td>\n",
       "      <td>RENT</td>\n",
       "      <td>117000.0</td>\n",
       "      <td>Not Verified</td>\n",
       "      <td>1</td>\n",
       "      <td>vacation</td>\n",
       "      <td>26.24</td>\n",
       "      <td>1990</td>\n",
       "      <td>16.0</td>\n",
       "      <td>0.0</td>\n",
       "      <td>36369.0</td>\n",
       "      <td>41.8</td>\n",
       "      <td>25.0</td>\n",
       "      <td>w</td>\n",
       "      <td>INDIVIDUAL</td>\n",
       "      <td>0.0</td>\n",
       "      <td>0.0</td>\n",
       "      <td>22690</td>\n",
       "    </tr>\n",
       "    <tr>\n",
       "      <th>1</th>\n",
       "      <td>8000.0</td>\n",
       "      <td>36</td>\n",
       "      <td>11.99</td>\n",
       "      <td>265.68</td>\n",
       "      <td>B5</td>\n",
       "      <td>4</td>\n",
       "      <td>MORTGAGE</td>\n",
       "      <td>65000.0</td>\n",
       "      <td>Not Verified</td>\n",
       "      <td>1</td>\n",
       "      <td>debt_consolidation</td>\n",
       "      <td>22.05</td>\n",
       "      <td>2004</td>\n",
       "      <td>17.0</td>\n",
       "      <td>0.0</td>\n",
       "      <td>20131.0</td>\n",
       "      <td>53.3</td>\n",
       "      <td>27.0</td>\n",
       "      <td>f</td>\n",
       "      <td>INDIVIDUAL</td>\n",
       "      <td>3.0</td>\n",
       "      <td>0.0</td>\n",
       "      <td>05113</td>\n",
       "    </tr>\n",
       "    <tr>\n",
       "      <th>2</th>\n",
       "      <td>15600.0</td>\n",
       "      <td>36</td>\n",
       "      <td>10.49</td>\n",
       "      <td>506.97</td>\n",
       "      <td>B3</td>\n",
       "      <td>0</td>\n",
       "      <td>RENT</td>\n",
       "      <td>43057.0</td>\n",
       "      <td>Source Verified</td>\n",
       "      <td>1</td>\n",
       "      <td>credit_card</td>\n",
       "      <td>12.79</td>\n",
       "      <td>2007</td>\n",
       "      <td>13.0</td>\n",
       "      <td>0.0</td>\n",
       "      <td>11987.0</td>\n",
       "      <td>92.2</td>\n",
       "      <td>26.0</td>\n",
       "      <td>f</td>\n",
       "      <td>INDIVIDUAL</td>\n",
       "      <td>0.0</td>\n",
       "      <td>0.0</td>\n",
       "      <td>05113</td>\n",
       "    </tr>\n",
       "    <tr>\n",
       "      <th>3</th>\n",
       "      <td>7200.0</td>\n",
       "      <td>36</td>\n",
       "      <td>6.49</td>\n",
       "      <td>220.65</td>\n",
       "      <td>A2</td>\n",
       "      <td>6</td>\n",
       "      <td>RENT</td>\n",
       "      <td>54000.0</td>\n",
       "      <td>Not Verified</td>\n",
       "      <td>1</td>\n",
       "      <td>credit_card</td>\n",
       "      <td>2.60</td>\n",
       "      <td>2006</td>\n",
       "      <td>6.0</td>\n",
       "      <td>0.0</td>\n",
       "      <td>5472.0</td>\n",
       "      <td>21.5</td>\n",
       "      <td>13.0</td>\n",
       "      <td>f</td>\n",
       "      <td>INDIVIDUAL</td>\n",
       "      <td>0.0</td>\n",
       "      <td>0.0</td>\n",
       "      <td>00813</td>\n",
       "    </tr>\n",
       "    <tr>\n",
       "      <th>4</th>\n",
       "      <td>24375.0</td>\n",
       "      <td>60</td>\n",
       "      <td>17.27</td>\n",
       "      <td>609.33</td>\n",
       "      <td>C5</td>\n",
       "      <td>9</td>\n",
       "      <td>MORTGAGE</td>\n",
       "      <td>55000.0</td>\n",
       "      <td>Verified</td>\n",
       "      <td>0</td>\n",
       "      <td>credit_card</td>\n",
       "      <td>33.95</td>\n",
       "      <td>1999</td>\n",
       "      <td>13.0</td>\n",
       "      <td>0.0</td>\n",
       "      <td>24584.0</td>\n",
       "      <td>69.8</td>\n",
       "      <td>43.0</td>\n",
       "      <td>f</td>\n",
       "      <td>INDIVIDUAL</td>\n",
       "      <td>1.0</td>\n",
       "      <td>0.0</td>\n",
       "      <td>11650</td>\n",
       "    </tr>\n",
       "  </tbody>\n",
       "</table>\n",
       "</div>"
      ],
      "text/plain": [
       "   loan_amnt  term  int_rate  installment sub_grade emp_length home_ownership  \\\n",
       "0    10000.0    36     11.44       329.48        B4         10           RENT   \n",
       "1     8000.0    36     11.99       265.68        B5          4       MORTGAGE   \n",
       "2    15600.0    36     10.49       506.97        B3          0           RENT   \n",
       "3     7200.0    36      6.49       220.65        A2          6           RENT   \n",
       "4    24375.0    60     17.27       609.33        C5          9       MORTGAGE   \n",
       "\n",
       "   annual_inc verification_status  loan_status             purpose    dti  \\\n",
       "0    117000.0        Not Verified            1            vacation  26.24   \n",
       "1     65000.0        Not Verified            1  debt_consolidation  22.05   \n",
       "2     43057.0     Source Verified            1         credit_card  12.79   \n",
       "3     54000.0        Not Verified            1         credit_card   2.60   \n",
       "4     55000.0            Verified            0         credit_card  33.95   \n",
       "\n",
       "   earliest_cr_line  open_acc  pub_rec  revol_bal  revol_util  total_acc  \\\n",
       "0              1990      16.0      0.0    36369.0        41.8       25.0   \n",
       "1              2004      17.0      0.0    20131.0        53.3       27.0   \n",
       "2              2007      13.0      0.0    11987.0        92.2       26.0   \n",
       "3              2006       6.0      0.0     5472.0        21.5       13.0   \n",
       "4              1999      13.0      0.0    24584.0        69.8       43.0   \n",
       "\n",
       "  initial_list_status application_type  mort_acc  pub_rec_bankruptcies    zip  \n",
       "0                   w       INDIVIDUAL       0.0                   0.0  22690  \n",
       "1                   f       INDIVIDUAL       3.0                   0.0  05113  \n",
       "2                   f       INDIVIDUAL       0.0                   0.0  05113  \n",
       "3                   f       INDIVIDUAL       0.0                   0.0  00813  \n",
       "4                   f       INDIVIDUAL       1.0                   0.0  11650  "
      ]
     },
     "execution_count": 166,
     "metadata": {},
     "output_type": "execute_result"
    }
   ],
   "source": [
    "df.head()"
   ]
  },
  {
   "cell_type": "code",
   "execution_count": 170,
   "metadata": {},
   "outputs": [
    {
     "data": {
      "text/plain": [
       "loan_amnt                   0\n",
       "term                        0\n",
       "int_rate                    0\n",
       "installment                 0\n",
       "sub_grade                   0\n",
       "emp_length              18301\n",
       "home_ownership              0\n",
       "annual_inc                  0\n",
       "verification_status         0\n",
       "loan_status                 0\n",
       "purpose                     0\n",
       "dti                         0\n",
       "earliest_cr_line            0\n",
       "open_acc                    0\n",
       "pub_rec                     0\n",
       "revol_bal                   0\n",
       "revol_util                276\n",
       "total_acc                   0\n",
       "initial_list_status         0\n",
       "application_type            0\n",
       "mort_acc                37795\n",
       "pub_rec_bankruptcies      535\n",
       "zip                         0\n",
       "dtype: int64"
      ]
     },
     "execution_count": 170,
     "metadata": {},
     "output_type": "execute_result"
    }
   ],
   "source": [
    "df.isnull().sum()"
   ]
  },
  {
   "cell_type": "code",
   "execution_count": 175,
   "metadata": {},
   "outputs": [
    {
     "data": {
      "text/plain": [
       "<AxesSubplot:>"
      ]
     },
     "execution_count": 175,
     "metadata": {},
     "output_type": "execute_result"
    },
    {
     "data": {
      "image/png": "[encoded data removed]",
      "text/plain": [
       "<Figure size 432x288 with 1 Axes>"
      ]
     },
     "metadata": {
      "needs_background": "light"
     },
     "output_type": "display_data"
    }
   ],
   "source": [
    "df['revol_util'].plot()"
   ]
  },
  {
   "cell_type": "code",
   "execution_count": 174,
   "metadata": {},
   "outputs": [
    {
     "data": {
      "text/plain": [
       "count    395754.000000\n",
       "mean         53.791749\n",
       "std          24.452193\n",
       "min           0.000000\n",
       "25%          35.800000\n",
       "50%          54.800000\n",
       "75%          72.900000\n",
       "max         892.300000\n",
       "Name: revol_util, dtype: float64"
      ]
     },
     "execution_count": 174,
     "metadata": {},
     "output_type": "execute_result"
    }
   ],
   "source": [
    "df['revol_util'].describe()"
   ]
  },
  {
   "cell_type": "code",
   "execution_count": 179,
   "metadata": {},
   "outputs": [
    {
     "data": {
      "text/plain": [
       "137211    892.3\n",
       "329037    153.0\n",
       "82600     152.5\n",
       "65687     150.7\n",
       "350333    148.0\n",
       "165111    146.1\n",
       "312268    145.8\n",
       "296174    140.4\n",
       "108246    136.7\n",
       "211426    132.1\n",
       "Name: revol_util, dtype: float64"
      ]
     },
     "execution_count": 179,
     "metadata": {},
     "output_type": "execute_result"
    }
   ],
   "source": [
    "df['revol_util'].sort_values(ascending=False)[:10]"
   ]
  },
  {
   "cell_type": "code",
   "execution_count": 181,
   "metadata": {},
   "outputs": [
    {
     "data": {
      "text/plain": [
       "53.79174863677853"
      ]
     },
     "execution_count": 181,
     "metadata": {},
     "output_type": "execute_result"
    }
   ],
   "source": [
    "df['revol_util'].mean()"
   ]
  },
  {
   "cell_type": "code",
   "execution_count": 182,
   "metadata": {
    "collapsed": true
   },
   "outputs": [
    {
     "name": "stderr",
     "output_type": "stream",
     "text": [
      "/Users/me/opt/anaconda3/lib/python3.8/site-packages/pandas/core/indexing.py:670: SettingWithCopyWarning: \n",
      "A value is trying to be set on a copy of a slice from a DataFrame\n",
      "\n",
      "See the caveats in the documentation: https://pandas.pydata.org/pandas-docs/stable/user_guide/indexing.html#returning-a-view-versus-a-copy\n",
      "  iloc._setitem_with_indexer(indexer, value)\n"
     ]
    }
   ],
   "source": [
    "df['revol_util'].iloc[137211] = df['revol_util'].mean()"
   ]
  },
  {
   "cell_type": "code",
   "execution_count": 184,
   "metadata": {
    "scrolled": true
   },
   "outputs": [
    {
     "data": {
      "text/plain": [
       "<AxesSubplot:>"
      ]
     },
     "execution_count": 184,
     "metadata": {},
     "output_type": "execute_result"
    },
    {
     "data": {
      "image/png": "[encoded data removed]",
      "text/plain": [
       "<Figure size 432x288 with 1 Axes>"
      ]
     },
     "metadata": {
      "needs_background": "light"
     },
     "output_type": "display_data"
    }
   ],
   "source": [
    "df['revol_util'].plot()"
   ]
  },
  {
   "cell_type": "code",
   "execution_count": 192,
   "metadata": {},
   "outputs": [
    {
     "data": {
      "text/plain": [
       "(396030, 23)"
      ]
     },
     "execution_count": 192,
     "metadata": {},
     "output_type": "execute_result"
    }
   ],
   "source": [
    "df.shape"
   ]
  },
  {
   "cell_type": "code",
   "execution_count": 193,
   "metadata": {},
   "outputs": [],
   "source": [
    "df.dropna(subset=['revol_util'],inplace = True)"
   ]
  },
  {
   "cell_type": "code",
   "execution_count": 194,
   "metadata": {},
   "outputs": [
    {
     "data": {
      "text/plain": [
       "(395754, 23)"
      ]
     },
     "execution_count": 194,
     "metadata": {},
     "output_type": "execute_result"
    }
   ],
   "source": [
    "df.shape"
   ]
  },
  {
   "cell_type": "code",
   "execution_count": 201,
   "metadata": {},
   "outputs": [
    {
     "data": {
      "text/plain": [
       "loan_amnt                   0\n",
       "term                        0\n",
       "int_rate                    0\n",
       "installment                 0\n",
       "sub_grade                   0\n",
       "emp_length              18290\n",
       "home_ownership              0\n",
       "annual_inc                  0\n",
       "verification_status         0\n",
       "loan_status                 0\n",
       "purpose                     0\n",
       "dti                         0\n",
       "earliest_cr_line            0\n",
       "open_acc                    0\n",
       "pub_rec                     0\n",
       "revol_bal                   0\n",
       "revol_util                  0\n",
       "total_acc                   0\n",
       "initial_list_status         0\n",
       "application_type            0\n",
       "mort_acc                37740\n",
       "pub_rec_bankruptcies      535\n",
       "zip                         0\n",
       "dtype: int64"
      ]
     },
     "execution_count": 201,
     "metadata": {},
     "output_type": "execute_result"
    }
   ],
   "source": [
    "df.isnull().sum()"
   ]
  },
  {
   "cell_type": "code",
   "execution_count": 204,
   "metadata": {
    "scrolled": true
   },
   "outputs": [
    {
     "data": {
      "text/plain": [
       "0.0    350108\n",
       "1.0     42786\n",
       "2.0      1847\n",
       "NaN       535\n",
       "3.0       351\n",
       "4.0        82\n",
       "5.0        32\n",
       "6.0         7\n",
       "7.0         4\n",
       "8.0         2\n",
       "Name: pub_rec_bankruptcies, dtype: int64"
      ]
     },
     "execution_count": 204,
     "metadata": {},
     "output_type": "execute_result"
    }
   ],
   "source": [
    "df['pub_rec_bankruptcies'].value_counts(dropna=False)"
   ]
  },
  {
   "cell_type": "code",
   "execution_count": 208,
   "metadata": {},
   "outputs": [],
   "source": [
    "df['pub_rec_bankruptcies'] = df['pub_rec_bankruptcies'].fillna(0.0)"
   ]
  },
  {
   "cell_type": "code",
   "execution_count": 209,
   "metadata": {},
   "outputs": [
    {
     "data": {
      "text/plain": [
       "0.0    350643\n",
       "1.0     42786\n",
       "2.0      1847\n",
       "3.0       351\n",
       "4.0        82\n",
       "5.0        32\n",
       "6.0         7\n",
       "7.0         4\n",
       "8.0         2\n",
       "Name: pub_rec_bankruptcies, dtype: int64"
      ]
     },
     "execution_count": 209,
     "metadata": {},
     "output_type": "execute_result"
    }
   ],
   "source": [
    "df['pub_rec_bankruptcies'].value_counts(dropna=False)"
   ]
  },
  {
   "cell_type": "code",
   "execution_count": 212,
   "metadata": {},
   "outputs": [
    {
     "data": {
      "text/plain": [
       "10     125966\n",
       "2       35804\n",
       "0       31694\n",
       "3       31647\n",
       "5       26479\n",
       "1       25860\n",
       "4       23936\n",
       "6       20826\n",
       "7       20799\n",
       "8       19150\n",
       "NaN     18290\n",
       "9       15303\n",
       "Name: emp_length, dtype: int64"
      ]
     },
     "execution_count": 212,
     "metadata": {},
     "output_type": "execute_result"
    }
   ],
   "source": [
    "df['emp_length'].value_counts(dropna = False)"
   ]
  },
  {
   "cell_type": "code",
   "execution_count": 221,
   "metadata": {},
   "outputs": [
    {
     "data": {
      "text/html": [
       "<div>\n",
       "<style scoped>\n",
       "    .dataframe tbody tr th:only-of-type {\n",
       "        vertical-align: middle;\n",
       "    }\n",
       "\n",
       "    .dataframe tbody tr th {\n",
       "        vertical-align: top;\n",
       "    }\n",
       "\n",
       "    .dataframe thead th {\n",
       "        text-align: right;\n",
       "    }\n",
       "</style>\n",
       "<table border=\"1\" class=\"dataframe\">\n",
       "  <thead>\n",
       "    <tr style=\"text-align: right;\">\n",
       "      <th></th>\n",
       "      <th>emp_title</th>\n",
       "      <th>emp_length</th>\n",
       "    </tr>\n",
       "  </thead>\n",
       "  <tbody>\n",
       "    <tr>\n",
       "      <th>0</th>\n",
       "      <td>Marketing</td>\n",
       "      <td>10+ years</td>\n",
       "    </tr>\n",
       "    <tr>\n",
       "      <th>1</th>\n",
       "      <td>Credit analyst</td>\n",
       "      <td>4 years</td>\n",
       "    </tr>\n",
       "    <tr>\n",
       "      <th>2</th>\n",
       "      <td>Statistician</td>\n",
       "      <td>&lt; 1 year</td>\n",
       "    </tr>\n",
       "    <tr>\n",
       "      <th>3</th>\n",
       "      <td>Client Advocate</td>\n",
       "      <td>6 years</td>\n",
       "    </tr>\n",
       "    <tr>\n",
       "      <th>4</th>\n",
       "      <td>Destiny Management Inc.</td>\n",
       "      <td>9 years</td>\n",
       "    </tr>\n",
       "  </tbody>\n",
       "</table>\n",
       "</div>"
      ],
      "text/plain": [
       "                 emp_title emp_length\n",
       "0                Marketing  10+ years\n",
       "1          Credit analyst     4 years\n",
       "2             Statistician   < 1 year\n",
       "3          Client Advocate    6 years\n",
       "4  Destiny Management Inc.    9 years"
      ]
     },
     "execution_count": 221,
     "metadata": {},
     "output_type": "execute_result"
    }
   ],
   "source": [
    "df_org[['emp_title','emp_length']].head()"
   ]
  },
  {
   "cell_type": "code",
   "execution_count": 222,
   "metadata": {},
   "outputs": [
    {
     "data": {
      "text/plain": [
       "NaN                          18123\n",
       "Retired                          3\n",
       "caregiver                        2\n",
       "Security                         2\n",
       "Disabled                         2\n",
       "                             ...  \n",
       "Vista Verde Middle School        1\n",
       "Inventory Counter                1\n",
       "Utilities Inspector              1\n",
       "JP Morgan Chase                  1\n",
       "One Source Tool, Inc             1\n",
       "Name: emp_title, Length: 170, dtype: int64"
      ]
     },
     "execution_count": 222,
     "metadata": {},
     "output_type": "execute_result"
    }
   ],
   "source": [
    "df_org[['emp_title','emp_length']][df_org[['emp_title','emp_length']]['emp_length'].isnull()]['emp_title'].value_counts(dropna=False)"
   ]
  },
  {
   "cell_type": "code",
   "execution_count": 223,
   "metadata": {},
   "outputs": [
    {
     "data": {
      "text/plain": [
       "10    125966\n",
       "2      35804\n",
       "0      31694\n",
       "3      31647\n",
       "5      26479\n",
       "1      25860\n",
       "4      23936\n",
       "6      20826\n",
       "7      20799\n",
       "8      19150\n",
       "0      18290\n",
       "9      15303\n",
       "Name: emp_length, dtype: int64"
      ]
     },
     "execution_count": 223,
     "metadata": {},
     "output_type": "execute_result"
    }
   ],
   "source": [
    "df['emp_length'].fillna(0,inplace=True)\n",
    "df['emp_length'].value_counts(dropna = False)"
   ]
  },
  {
   "cell_type": "code",
   "execution_count": 226,
   "metadata": {
    "scrolled": true
   },
   "outputs": [
    {
     "data": {
      "text/plain": [
       "0.0     139708\n",
       "1.0      60384\n",
       "2.0      49907\n",
       "3.0      38022\n",
       "NaN      37740\n",
       "4.0      27865\n",
       "5.0      18182\n",
       "6.0      11059\n",
       "7.0       6050\n",
       "8.0       3120\n",
       "9.0       1653\n",
       "10.0       863\n",
       "11.0       479\n",
       "12.0       264\n",
       "13.0       146\n",
       "14.0       107\n",
       "15.0        61\n",
       "16.0        37\n",
       "17.0        22\n",
       "18.0        18\n",
       "19.0        15\n",
       "20.0        13\n",
       "24.0        10\n",
       "22.0         7\n",
       "21.0         4\n",
       "25.0         4\n",
       "27.0         3\n",
       "23.0         2\n",
       "32.0         2\n",
       "26.0         2\n",
       "31.0         2\n",
       "30.0         1\n",
       "28.0         1\n",
       "34.0         1\n",
       "Name: mort_acc, dtype: int64"
      ]
     },
     "execution_count": 226,
     "metadata": {},
     "output_type": "execute_result"
    }
   ],
   "source": [
    "df['mort_acc'].value_counts(dropna=False)"
   ]
  },
  {
   "cell_type": "code",
   "execution_count": 227,
   "metadata": {},
   "outputs": [
    {
     "data": {
      "text/plain": [
       "0.0     177448\n",
       "1.0      60384\n",
       "2.0      49907\n",
       "3.0      38022\n",
       "4.0      27865\n",
       "5.0      18182\n",
       "6.0      11059\n",
       "7.0       6050\n",
       "8.0       3120\n",
       "9.0       1653\n",
       "10.0       863\n",
       "11.0       479\n",
       "12.0       264\n",
       "13.0       146\n",
       "14.0       107\n",
       "15.0        61\n",
       "16.0        37\n",
       "17.0        22\n",
       "18.0        18\n",
       "19.0        15\n",
       "20.0        13\n",
       "24.0        10\n",
       "22.0         7\n",
       "21.0         4\n",
       "25.0         4\n",
       "27.0         3\n",
       "23.0         2\n",
       "32.0         2\n",
       "26.0         2\n",
       "31.0         2\n",
       "30.0         1\n",
       "28.0         1\n",
       "34.0         1\n",
       "Name: mort_acc, dtype: int64"
      ]
     },
     "execution_count": 227,
     "metadata": {},
     "output_type": "execute_result"
    }
   ],
   "source": [
    "df['mort_acc'].fillna(0,inplace=True)\n",
    "df['mort_acc'].value_counts(dropna = False)"
   ]
  },
  {
   "cell_type": "code",
   "execution_count": 228,
   "metadata": {},
   "outputs": [
    {
     "data": {
      "text/plain": [
       "loan_amnt               0\n",
       "term                    0\n",
       "int_rate                0\n",
       "installment             0\n",
       "sub_grade               0\n",
       "emp_length              0\n",
       "home_ownership          0\n",
       "annual_inc              0\n",
       "verification_status     0\n",
       "loan_status             0\n",
       "purpose                 0\n",
       "dti                     0\n",
       "earliest_cr_line        0\n",
       "open_acc                0\n",
       "pub_rec                 0\n",
       "revol_bal               0\n",
       "revol_util              0\n",
       "total_acc               0\n",
       "initial_list_status     0\n",
       "application_type        0\n",
       "mort_acc                0\n",
       "pub_rec_bankruptcies    0\n",
       "zip                     0\n",
       "dtype: int64"
      ]
     },
     "execution_count": 228,
     "metadata": {},
     "output_type": "execute_result"
    }
   ],
   "source": [
    "df.isnull().sum()"
   ]
  },
  {
   "cell_type": "code",
   "execution_count": 230,
   "metadata": {},
   "outputs": [
    {
     "data": {
      "text/plain": [
       "(395754, 23)"
      ]
     },
     "execution_count": 230,
     "metadata": {},
     "output_type": "execute_result"
    }
   ],
   "source": [
    "df.shape"
   ]
  },
  {
   "cell_type": "code",
   "execution_count": 247,
   "metadata": {},
   "outputs": [],
   "source": [
    "df['emp_length'] = df['emp_length'].astype('int')"
   ]
  },
  {
   "cell_type": "code",
   "execution_count": 250,
   "metadata": {},
   "outputs": [],
   "source": [
    "df['zip'] = df['zip'].astype('int')"
   ]
  },
  {
   "cell_type": "code",
   "execution_count": 249,
   "metadata": {},
   "outputs": [
    {
     "data": {
      "text/html": [
       "<div>\n",
       "<style scoped>\n",
       "    .dataframe tbody tr th:only-of-type {\n",
       "        vertical-align: middle;\n",
       "    }\n",
       "\n",
       "    .dataframe tbody tr th {\n",
       "        vertical-align: top;\n",
       "    }\n",
       "\n",
       "    .dataframe thead th {\n",
       "        text-align: right;\n",
       "    }\n",
       "</style>\n",
       "<table border=\"1\" class=\"dataframe\">\n",
       "  <thead>\n",
       "    <tr style=\"text-align: right;\">\n",
       "      <th></th>\n",
       "      <th>loan_amnt</th>\n",
       "      <th>term</th>\n",
       "      <th>int_rate</th>\n",
       "      <th>installment</th>\n",
       "      <th>sub_grade</th>\n",
       "      <th>emp_length</th>\n",
       "      <th>home_ownership</th>\n",
       "      <th>annual_inc</th>\n",
       "      <th>verification_status</th>\n",
       "      <th>loan_status</th>\n",
       "      <th>purpose</th>\n",
       "      <th>dti</th>\n",
       "      <th>earliest_cr_line</th>\n",
       "      <th>open_acc</th>\n",
       "      <th>pub_rec</th>\n",
       "      <th>revol_bal</th>\n",
       "      <th>revol_util</th>\n",
       "      <th>total_acc</th>\n",
       "      <th>initial_list_status</th>\n",
       "      <th>application_type</th>\n",
       "      <th>mort_acc</th>\n",
       "      <th>pub_rec_bankruptcies</th>\n",
       "      <th>zip</th>\n",
       "    </tr>\n",
       "  </thead>\n",
       "  <tbody>\n",
       "    <tr>\n",
       "      <th>0</th>\n",
       "      <td>10000.0</td>\n",
       "      <td>36</td>\n",
       "      <td>11.44</td>\n",
       "      <td>329.48</td>\n",
       "      <td>B4</td>\n",
       "      <td>10</td>\n",
       "      <td>RENT</td>\n",
       "      <td>117000.0</td>\n",
       "      <td>Not Verified</td>\n",
       "      <td>1</td>\n",
       "      <td>vacation</td>\n",
       "      <td>26.24</td>\n",
       "      <td>1990</td>\n",
       "      <td>16.0</td>\n",
       "      <td>0.0</td>\n",
       "      <td>36369.0</td>\n",
       "      <td>41.8</td>\n",
       "      <td>25.0</td>\n",
       "      <td>w</td>\n",
       "      <td>INDIVIDUAL</td>\n",
       "      <td>0.0</td>\n",
       "      <td>0.0</td>\n",
       "      <td>22690</td>\n",
       "    </tr>\n",
       "    <tr>\n",
       "      <th>1</th>\n",
       "      <td>8000.0</td>\n",
       "      <td>36</td>\n",
       "      <td>11.99</td>\n",
       "      <td>265.68</td>\n",
       "      <td>B5</td>\n",
       "      <td>4</td>\n",
       "      <td>MORTGAGE</td>\n",
       "      <td>65000.0</td>\n",
       "      <td>Not Verified</td>\n",
       "      <td>1</td>\n",
       "      <td>debt_consolidation</td>\n",
       "      <td>22.05</td>\n",
       "      <td>2004</td>\n",
       "      <td>17.0</td>\n",
       "      <td>0.0</td>\n",
       "      <td>20131.0</td>\n",
       "      <td>53.3</td>\n",
       "      <td>27.0</td>\n",
       "      <td>f</td>\n",
       "      <td>INDIVIDUAL</td>\n",
       "      <td>3.0</td>\n",
       "      <td>0.0</td>\n",
       "      <td>05113</td>\n",
       "    </tr>\n",
       "    <tr>\n",
       "      <th>2</th>\n",
       "      <td>15600.0</td>\n",
       "      <td>36</td>\n",
       "      <td>10.49</td>\n",
       "      <td>506.97</td>\n",
       "      <td>B3</td>\n",
       "      <td>0</td>\n",
       "      <td>RENT</td>\n",
       "      <td>43057.0</td>\n",
       "      <td>Source Verified</td>\n",
       "      <td>1</td>\n",
       "      <td>credit_card</td>\n",
       "      <td>12.79</td>\n",
       "      <td>2007</td>\n",
       "      <td>13.0</td>\n",
       "      <td>0.0</td>\n",
       "      <td>11987.0</td>\n",
       "      <td>92.2</td>\n",
       "      <td>26.0</td>\n",
       "      <td>f</td>\n",
       "      <td>INDIVIDUAL</td>\n",
       "      <td>0.0</td>\n",
       "      <td>0.0</td>\n",
       "      <td>05113</td>\n",
       "    </tr>\n",
       "    <tr>\n",
       "      <th>3</th>\n",
       "      <td>7200.0</td>\n",
       "      <td>36</td>\n",
       "      <td>6.49</td>\n",
       "      <td>220.65</td>\n",
       "      <td>A2</td>\n",
       "      <td>6</td>\n",
       "      <td>RENT</td>\n",
       "      <td>54000.0</td>\n",
       "      <td>Not Verified</td>\n",
       "      <td>1</td>\n",
       "      <td>credit_card</td>\n",
       "      <td>2.60</td>\n",
       "      <td>2006</td>\n",
       "      <td>6.0</td>\n",
       "      <td>0.0</td>\n",
       "      <td>5472.0</td>\n",
       "      <td>21.5</td>\n",
       "      <td>13.0</td>\n",
       "      <td>f</td>\n",
       "      <td>INDIVIDUAL</td>\n",
       "      <td>0.0</td>\n",
       "      <td>0.0</td>\n",
       "      <td>00813</td>\n",
       "    </tr>\n",
       "    <tr>\n",
       "      <th>4</th>\n",
       "      <td>24375.0</td>\n",
       "      <td>60</td>\n",
       "      <td>17.27</td>\n",
       "      <td>609.33</td>\n",
       "      <td>C5</td>\n",
       "      <td>9</td>\n",
       "      <td>MORTGAGE</td>\n",
       "      <td>55000.0</td>\n",
       "      <td>Verified</td>\n",
       "      <td>0</td>\n",
       "      <td>credit_card</td>\n",
       "      <td>33.95</td>\n",
       "      <td>1999</td>\n",
       "      <td>13.0</td>\n",
       "      <td>0.0</td>\n",
       "      <td>24584.0</td>\n",
       "      <td>69.8</td>\n",
       "      <td>43.0</td>\n",
       "      <td>f</td>\n",
       "      <td>INDIVIDUAL</td>\n",
       "      <td>1.0</td>\n",
       "      <td>0.0</td>\n",
       "      <td>11650</td>\n",
       "    </tr>\n",
       "  </tbody>\n",
       "</table>\n",
       "</div>"
      ],
      "text/plain": [
       "   loan_amnt  term  int_rate  installment sub_grade  emp_length  \\\n",
       "0    10000.0    36     11.44       329.48        B4          10   \n",
       "1     8000.0    36     11.99       265.68        B5           4   \n",
       "2    15600.0    36     10.49       506.97        B3           0   \n",
       "3     7200.0    36      6.49       220.65        A2           6   \n",
       "4    24375.0    60     17.27       609.33        C5           9   \n",
       "\n",
       "  home_ownership  annual_inc verification_status  loan_status  \\\n",
       "0           RENT    117000.0        Not Verified            1   \n",
       "1       MORTGAGE     65000.0        Not Verified            1   \n",
       "2           RENT     43057.0     Source Verified            1   \n",
       "3           RENT     54000.0        Not Verified            1   \n",
       "4       MORTGAGE     55000.0            Verified            0   \n",
       "\n",
       "              purpose    dti  earliest_cr_line  open_acc  pub_rec  revol_bal  \\\n",
       "0            vacation  26.24              1990      16.0      0.0    36369.0   \n",
       "1  debt_consolidation  22.05              2004      17.0      0.0    20131.0   \n",
       "2         credit_card  12.79              2007      13.0      0.0    11987.0   \n",
       "3         credit_card   2.60              2006       6.0      0.0     5472.0   \n",
       "4         credit_card  33.95              1999      13.0      0.0    24584.0   \n",
       "\n",
       "   revol_util  total_acc initial_list_status application_type  mort_acc  \\\n",
       "0        41.8       25.0                   w       INDIVIDUAL       0.0   \n",
       "1        53.3       27.0                   f       INDIVIDUAL       3.0   \n",
       "2        92.2       26.0                   f       INDIVIDUAL       0.0   \n",
       "3        21.5       13.0                   f       INDIVIDUAL       0.0   \n",
       "4        69.8       43.0                   f       INDIVIDUAL       1.0   \n",
       "\n",
       "   pub_rec_bankruptcies    zip  \n",
       "0                   0.0  22690  \n",
       "1                   0.0  05113  \n",
       "2                   0.0  05113  \n",
       "3                   0.0  00813  \n",
       "4                   0.0  11650  "
      ]
     },
     "execution_count": 249,
     "metadata": {},
     "output_type": "execute_result"
    }
   ],
   "source": [
    "df.head()"
   ]
  },
  {
   "cell_type": "code",
   "execution_count": 248,
   "metadata": {},
   "outputs": [
    {
     "name": "stdout",
     "output_type": "stream",
     "text": [
      "<class 'pandas.core.frame.DataFrame'>\n",
      "Int64Index: 395754 entries, 0 to 396029\n",
      "Data columns (total 23 columns):\n",
      " #   Column                Non-Null Count   Dtype  \n",
      "---  ------                --------------   -----  \n",
      " 0   loan_amnt             395754 non-null  float64\n",
      " 1   term                  395754 non-null  int64  \n",
      " 2   int_rate              395754 non-null  float64\n",
      " 3   installment           395754 non-null  float64\n",
      " 4   sub_grade             395754 non-null  object \n",
      " 5   emp_length            395754 non-null  int64  \n",
      " 6   home_ownership        395754 non-null  object \n",
      " 7   annual_inc            395754 non-null  float64\n",
      " 8   verification_status   395754 non-null  object \n",
      " 9   loan_status           395754 non-null  int64  \n",
      " 10  purpose               395754 non-null  object \n",
      " 11  dti                   395754 non-null  float64\n",
      " 12  earliest_cr_line      395754 non-null  int64  \n",
      " 13  open_acc              395754 non-null  float64\n",
      " 14  pub_rec               395754 non-null  float64\n",
      " 15  revol_bal             395754 non-null  float64\n",
      " 16  revol_util            395754 non-null  float64\n",
      " 17  total_acc             395754 non-null  float64\n",
      " 18  initial_list_status   395754 non-null  object \n",
      " 19  application_type      395754 non-null  object \n",
      " 20  mort_acc              395754 non-null  float64\n",
      " 21  pub_rec_bankruptcies  395754 non-null  float64\n",
      " 22  zip                   395754 non-null  object \n",
      "dtypes: float64(12), int64(4), object(7)\n",
      "memory usage: 72.5+ MB\n"
     ]
    }
   ],
   "source": [
    "df.info()"
   ]
  },
  {
   "cell_type": "code",
   "execution_count": 255,
   "metadata": {},
   "outputs": [
    {
     "name": "stdout",
     "output_type": "stream",
     "text": [
      "loan_amnt\n"
     ]
    },
    {
     "data": {
      "image/png": "[encoded data removed]",
      "text/plain": [
       "<Figure size 432x288 with 1 Axes>"
      ]
     },
     "metadata": {
      "needs_background": "light"
     },
     "output_type": "display_data"
    },
    {
     "name": "stdout",
     "output_type": "stream",
     "text": [
      "term\n"
     ]
    },
    {
     "data": {
      "image/png": "[encoded data removed]",
      "text/plain": [
       "<Figure size 432x288 with 1 Axes>"
      ]
     },
     "metadata": {
      "needs_background": "light"
     },
     "output_type": "display_data"
    },
    {
     "name": "stdout",
     "output_type": "stream",
     "text": [
      "int_rate\n"
     ]
    },
    {
     "data": {
      "image/png": "[encoded data removed]",
      "text/plain": [
       "<Figure size 432x288 with 1 Axes>"
      ]
     },
     "metadata": {
      "needs_background": "light"
     },
     "output_type": "display_data"
    },
    {
     "name": "stdout",
     "output_type": "stream",
     "text": [
      "installment\n"
     ]
    },
    {
     "data": {
      "image/png": "[encoded data removed]",
      "text/plain": [
       "<Figure size 432x288 with 1 Axes>"
      ]
     },
     "metadata": {
      "needs_background": "light"
     },
     "output_type": "display_data"
    },
    {
     "name": "stdout",
     "output_type": "stream",
     "text": [
      "emp_length\n"
     ]
    },
    {
     "data": {
      "image/png": "[encoded data removed]",
      "text/plain": [
       "<Figure size 432x288 with 1 Axes>"
      ]
     },
     "metadata": {
      "needs_background": "light"
     },
     "output_type": "display_data"
    },
    {
     "name": "stdout",
     "output_type": "stream",
     "text": [
      "annual_inc\n"
     ]
    },
    {
     "data": {
      "image/png": "[encoded data removed]",
      "text/plain": [
       "<Figure size 432x288 with 1 Axes>"
      ]
     },
     "metadata": {
      "needs_background": "light"
     },
     "output_type": "display_data"
    },
    {
     "name": "stdout",
     "output_type": "stream",
     "text": [
      "loan_status\n"
     ]
    },
    {
     "data": {
      "image/png": "[encoded data removed]",
      "text/plain": [
       "<Figure size 432x288 with 1 Axes>"
      ]
     },
     "metadata": {
      "needs_background": "light"
     },
     "output_type": "display_data"
    },
    {
     "name": "stdout",
     "output_type": "stream",
     "text": [
      "dti\n"
     ]
    },
    {
     "data": {
      "image/png": "[encoded data removed]",
      "text/plain": [
       "<Figure size 432x288 with 1 Axes>"
      ]
     },
     "metadata": {
      "needs_background": "light"
     },
     "output_type": "display_data"
    },
    {
     "name": "stdout",
     "output_type": "stream",
     "text": [
      "earliest_cr_line\n"
     ]
    },
    {
     "data": {
      "image/png": "[encoded data removed]",
      "text/plain": [
       "<Figure size 432x288 with 1 Axes>"
      ]
     },
     "metadata": {
      "needs_background": "light"
     },
     "output_type": "display_data"
    },
    {
     "name": "stdout",
     "output_type": "stream",
     "text": [
      "open_acc\n"
     ]
    },
    {
     "data": {
      "image/png": "[encoded data removed]",
      "text/plain": [
       "<Figure size 432x288 with 1 Axes>"
      ]
     },
     "metadata": {
      "needs_background": "light"
     },
     "output_type": "display_data"
    },
    {
     "name": "stdout",
     "output_type": "stream",
     "text": [
      "pub_rec\n"
     ]
    },
    {
     "data": {
      "image/png": "[encoded data removed]",
      "text/plain": [
       "<Figure size 432x288 with 1 Axes>"
      ]
     },
     "metadata": {
      "needs_background": "light"
     },
     "output_type": "display_data"
    },
    {
     "name": "stdout",
     "output_type": "stream",
     "text": [
      "revol_bal\n"
     ]
    },
    {
     "data": {
      "image/png": "[encoded data removed]",
      "text/plain": [
       "<Figure size 432x288 with 1 Axes>"
      ]
     },
     "metadata": {
      "needs_background": "light"
     },
     "output_type": "display_data"
    },
    {
     "name": "stdout",
     "output_type": "stream",
     "text": [
      "revol_util\n"
     ]
    },
    {
     "data": {
      "image/png": "[encoded data removed]",
      "text/plain": [
       "<Figure size 432x288 with 1 Axes>"
      ]
     },
     "metadata": {
      "needs_background": "light"
     },
     "output_type": "display_data"
    },
    {
     "name": "stdout",
     "output_type": "stream",
     "text": [
      "total_acc\n"
     ]
    },
    {
     "data": {
      "image/png": "[encoded data removed]",
      "text/plain": [
       "<Figure size 432x288 with 1 Axes>"
      ]
     },
     "metadata": {
      "needs_background": "light"
     },
     "output_type": "display_data"
    },
    {
     "name": "stdout",
     "output_type": "stream",
     "text": [
      "mort_acc\n"
     ]
    },
    {
     "data": {
      "image/png": "[encoded data removed]",
      "text/plain": [
       "<Figure size 432x288 with 1 Axes>"
      ]
     },
     "metadata": {
      "needs_background": "light"
     },
     "output_type": "display_data"
    },
    {
     "name": "stdout",
     "output_type": "stream",
     "text": [
      "pub_rec_bankruptcies\n"
     ]
    },
    {
     "data": {
      "image/png": "[encoded data removed]",
      "text/plain": [
       "<Figure size 432x288 with 1 Axes>"
      ]
     },
     "metadata": {
      "needs_background": "light"
     },
     "output_type": "display_data"
    },
    {
     "name": "stdout",
     "output_type": "stream",
     "text": [
      "zip\n"
     ]
    },
    {
     "data": {
      "image/png": "[encoded data removed]",
      "text/plain": [
       "<Figure size 432x288 with 1 Axes>"
      ]
     },
     "metadata": {
      "needs_background": "light"
     },
     "output_type": "display_data"
    }
   ],
   "source": [
    "import warnings\n",
    "warnings.filterwarnings('ignore')\n",
    "for i in df.columns:\n",
    "    if df[i].dtype in ['float64','int64']:\n",
    "        print(i)\n",
    "        sns.boxplot(df[i])\n",
    "        plt.show()"
   ]
  },
  {
   "cell_type": "code",
   "execution_count": null,
   "metadata": {},
   "outputs": [],
   "source": []
  },
  {
   "cell_type": "code",
   "execution_count": null,
   "metadata": {},
   "outputs": [],
   "source": []
  },
  {
   "cell_type": "code",
   "execution_count": null,
   "metadata": {},
   "outputs": [],
   "source": []
  },
  {
   "cell_type": "code",
   "execution_count": null,
   "metadata": {},
   "outputs": [],
   "source": []
  },
  {
   "cell_type": "code",
   "execution_count": null,
   "metadata": {},
   "outputs": [],
   "source": []
  },
  {
   "cell_type": "code",
   "execution_count": null,
   "metadata": {},
   "outputs": [],
   "source": []
  },
  {
   "cell_type": "markdown",
   "metadata": {},
   "source": [
    "## 3. Data Pre-Processing"
   ]
  },
  {
   "cell_type": "markdown",
   "metadata": {},
   "source": [
    "### Train Test Split\n",
    "You will keep some part of the data aside as a test set. The model will not use this set during training and it will be used only for checking the performance of the model is trained and un-trained states. This way, you can make sure that you are going in the right direction with your model training."
   ]
  },
  {
   "cell_type": "code",
   "execution_count": null,
   "metadata": {},
   "outputs": [],
   "source": []
  },
  {
   "cell_type": "markdown",
   "metadata": {},
   "source": [
    "### Scaling \n",
    "\n",
    "We can make it easier for optimization algorithms to find minimas by normalizing the data before training a model.\n",
    "\n",
    "***Note:*** *Use a MinMaxScaler to normalize the feature data X_train and X_test. Recall you don't want data leakge from the test set so you only fit on the X_train data.*"
   ]
  },
  {
   "cell_type": "code",
   "execution_count": null,
   "metadata": {},
   "outputs": [],
   "source": []
  },
  {
   "cell_type": "markdown",
   "metadata": {},
   "source": [
    "---\n",
    "---"
   ]
  },
  {
   "cell_type": "markdown",
   "metadata": {},
   "source": [
    "## 4 Model Building\n",
    "\n",
    "Implement a sequential model to assess whether a new client will be able to pay back the loan. You can discover **[how to create](https://towardsdatascience.com/building-our-first-neural-network-in-keras-bdc8abbc17f5)** your first deep learning model in Python using **[Keras](https://keras.io/about/)**.\n",
    "\n",
    "Models in Keras are defined as a sequence of layers. The Sequential model API is a way of creating deep learning models where an instance of the Sequential class is created and model layers are created and added to it. In this section, we will look at defining a simple multilayer Perceptron. You can also create a Sequential model incrementally via the add() method.\n",
    "\n",
    "- Import libraries\n",
    "- Create a Sequential model and add layers one at a time until we are happy with your network architecture. ([build model architecture - hidden layers and hidden units](https://keras.io/guides/sequential_model/))\n",
    "- Compile the model by specifying an optimizer and a loss function and compute trainable parameters.\n",
    "- Fit the model\n",
    "- Evaluate model performance\n",
    "\n",
    "\n",
    "- ***Note***:  *Use .sample() to grab a sample of the 490k+ entries to save time on training. Highly recommended for lower RAM computers or if you are not using GPU.*"
   ]
  },
  {
   "cell_type": "markdown",
   "metadata": {},
   "source": [
    "### Import Libraries"
   ]
  },
  {
   "cell_type": "code",
   "execution_count": null,
   "metadata": {},
   "outputs": [],
   "source": []
  },
  {
   "cell_type": "markdown",
   "metadata": {},
   "source": [
    "### Create a Sequential Model\n",
    "\n",
    "[How to choose the number of hidden layers and nodes?](https://stats.stackexchange.com/questions/181/how-to-choose-the-number-of-hidden-layers-and-nodes-in-a-feedforward-neural-netw)"
   ]
  },
  {
   "cell_type": "code",
   "execution_count": null,
   "metadata": {},
   "outputs": [],
   "source": []
  },
  {
   "cell_type": "markdown",
   "metadata": {},
   "source": [
    "### Compile the Model\n",
    "\n",
    "When compiling, you must specify some additional properties required when training the network. Remember training a network means finding the best set of weights to map inputs to outputs in your dataset.\n",
    "\n",
    "You must specify the loss function to use to evaluate a set of weights, the optimizer is used to search through different weights for the network and any optional metrics you would like to collect and report during training.\n",
    "\n",
    "Define the optimizer as the efficient stochastic gradient descent algorithm ***adam***. This is a popular version of gradient descent because it automatically tunes itself and gives good results in a wide range of problems.\n",
    "\n",
    "In this case, you will use cross entropy as the loss argument. This loss is for a binary classification problems and is defined in Keras as ***binary_crossentropy***.\n"
   ]
  },
  {
   "cell_type": "code",
   "execution_count": null,
   "metadata": {},
   "outputs": [],
   "source": []
  },
  {
   "cell_type": "markdown",
   "metadata": {},
   "source": [
    "### Fit the Model\n",
    "\n",
    "\n",
    "Training occurs over epochs and each epoch is split into batches.\n",
    "\n",
    "The training process will run for a fixed number of iterations through the dataset called epochs, that we must specify using the epochs argument. We must also set the number of dataset rows that are considered before the model weights are updated within each epoch, called the batch size and set using the batch_size argument.\n",
    "\n",
    "Epochs and Batch_size configurations can be chosen experimentally by trial and error. We want to train the model enough so that it learns a good (or good enough) mapping of rows of input data to the output classification. The model will always have some error, but the amount of error will level out after some point for a given model configuration.\n",
    "\n",
    "- Fit the model to the training data for at least 25 epochs. Also add in the validation data for later plotting. Optional: add in a batch_size of 256\n",
    "- OPTIONAL: Save your model."
   ]
  },
  {
   "cell_type": "code",
   "execution_count": null,
   "metadata": {},
   "outputs": [],
   "source": []
  },
  {
   "cell_type": "markdown",
   "metadata": {},
   "source": [
    "---\n",
    "---"
   ]
  },
  {
   "cell_type": "markdown",
   "metadata": {},
   "source": [
    "## 5. Evaluate Model Performance\n",
    "\n",
    "Ideally, the loss is expected to go to zero and the accuracy to 1.0 (e.g. 100%). This is not possible for any but the most trivial machine learning problems. Instead, we will always have some error in our model. The goal is to choose a model configuration and training configuration that achieve the lowest loss and highest accuracy possible for a given dataset.\n",
    "\n",
    "- Plot out the validation loss vs. the training loss.\n",
    "- Create predictions from the X_test set and display a classification report and confusion matrix for the X_test set.\n",
    "- OPTIONAL: You can observe whether the model correctly predicts the loan_reload status for a randomly selected customer id."
   ]
  },
  {
   "cell_type": "markdown",
   "metadata": {},
   "source": [
    "### Plot out the validation loss vs. the training loss"
   ]
  },
  {
   "cell_type": "code",
   "execution_count": null,
   "metadata": {},
   "outputs": [],
   "source": []
  },
  {
   "cell_type": "markdown",
   "metadata": {},
   "source": [
    "### Make Prediction"
   ]
  },
  {
   "cell_type": "code",
   "execution_count": null,
   "metadata": {},
   "outputs": [],
   "source": []
  },
  {
   "cell_type": "markdown",
   "metadata": {},
   "source": [
    "### Create classification report and confusion matrix"
   ]
  },
  {
   "cell_type": "code",
   "execution_count": null,
   "metadata": {},
   "outputs": [],
   "source": []
  }
 ],
 "metadata": {
  "kernelspec": {
   "display_name": "Python 3",
   "language": "python",
   "name": "python3"
  },
  "language_info": {
   "codemirror_mode": {
    "name": "ipython",
    "version": 3
   },
   "file_extension": ".py",
   "mimetype": "text/x-python",
   "name": "python",
   "nbconvert_exporter": "python",
   "pygments_lexer": "ipython3",
   "version": "3.8.5"
  }
 },
 "nbformat": 4,
 "nbformat_minor": 4
}
